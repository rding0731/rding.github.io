{
 "cells": [
  {
   "cell_type": "code",
   "execution_count": 1,
   "metadata": {
    "collapsed": true
   },
   "outputs": [],
   "source": [
    "import pandas as pd\n",
    "import numpy as np"
   ]
  },
  {
   "cell_type": "code",
   "execution_count": 2,
   "metadata": {
    "collapsed": false
   },
   "outputs": [],
   "source": [
    "data = pd.read_csv(r'C:/Users/ruonan.ding/Desktop/SBU_example_Surveydata_2014.csv',\n",
    "                   encoding=\"cp1252\")"
   ]
  },
  {
   "cell_type": "code",
   "execution_count": 3,
   "metadata": {
    "collapsed": false
   },
   "outputs": [],
   "source": [
    "continuousVar = data.describe().columns\n",
    "categoricalVar = [i for i in data.columns if i not in continuousVar]"
   ]
  },
  {
   "cell_type": "code",
   "execution_count": 4,
   "metadata": {
    "collapsed": false
   },
   "outputs": [],
   "source": [
    "def deleteNonEffVar(data):\n",
    "    nullColumns = []\n",
    "    for col in data.columns:\n",
    "        if len(data[col].factorize()[1]) == 1:\n",
    "            nullColumns.append(col)\n",
    "            continue\n",
    "        nullPercentage = data[col].isnull().sum() / data.shape[0]\n",
    "        if nullPercentage >= 0.5:\n",
    "            nullColumns.append(col)\n",
    "    return data.drop(nullColumns, axis = 1)"
   ]
  },
  {
   "cell_type": "code",
   "execution_count": 5,
   "metadata": {
    "collapsed": false
   },
   "outputs": [],
   "source": [
    "data2 = deleteNonEffVar(data)"
   ]
  },
  {
   "cell_type": "markdown",
   "metadata": {},
   "source": [
    "## Feature Cleaning and Engineering"
   ]
  },
  {
   "cell_type": "code",
   "execution_count": 6,
   "metadata": {
    "collapsed": false,
    "scrolled": false
   },
   "outputs": [],
   "source": [
    "#Find out the portion with that are not Yes or No"
   ]
  },
  {
   "cell_type": "code",
   "execution_count": 7,
   "metadata": {
    "collapsed": false
   },
   "outputs": [],
   "source": [
    "data3 = data2[data2.columns[19:]]"
   ]
  },
  {
   "cell_type": "code",
   "execution_count": 8,
   "metadata": {
    "collapsed": false
   },
   "outputs": [],
   "source": [
    "optionalQ = []\n",
    "for col in data3.columns:\n",
    "    tol = sum([1 for x in data3[col] if str(x).find(\"Missing\") != -1])\n",
    "    if tol > 1000:\n",
    "        # print(col, tol)\n",
    "        optionalQ.append(col)"
   ]
  },
  {
   "cell_type": "code",
   "execution_count": 9,
   "metadata": {
    "collapsed": false
   },
   "outputs": [],
   "source": [
    "data4 = data3.drop(optionalQ, axis = 1) "
   ]
  },
  {
   "cell_type": "code",
   "execution_count": 10,
   "metadata": {
    "collapsed": true
   },
   "outputs": [],
   "source": [
    "data4 = data4[(data4['DIABETE3'] != 'Refused')]\n",
    "data4 = data4[(data4['DIABETE3'] != 'Don’t know/Not Sure')]"
   ]
  },
  {
   "cell_type": "code",
   "execution_count": 11,
   "metadata": {
    "collapsed": true
   },
   "outputs": [],
   "source": [
    "another_Col = ['DIABETE3',\"GENHLTH\", \"HLTHPLN1\",\n",
    "\"EXERANY2\", \"CVDINFR4\", \"CVDCRHD4\", \"CVDSTRK3\",\n",
    "\"ASTHMA3\", \"CHCSCNCR\", \"CHCOCNCR\", \"CHCCOPD\", \"HAVARTH3\", \"ADDEPEV2\", \"CHCKIDNY\",\n",
    "\"AGE\", \"MARITAL\" , \"CHILDREN\" , \"EDUCA\" , \"EMPLOY1\" , \"INCOME2\" , \"SEX\" ,\n",
    "\"QLACTLM2\" , \"USEEQUIP\" , \"BLIND\" ,  \"DECIDE\" , \"DIFFWALK\" , \"DIFFDRES\" , \"DIFFALON\" ,\n",
    "\"USENOW3\" , \"ALCDAY5\" , \"PNEUVAC3\" , \"SEATBELT\" , \"BMI5CAT\" , \"RFBMI5\" ,\n",
    "\"RFSMOK3\" , \"DRNKANY5\"]"
   ]
  },
  {
   "cell_type": "code",
   "execution_count": 12,
   "metadata": {
    "collapsed": false
   },
   "outputs": [],
   "source": [
    "data5 = data4[another_Col]"
   ]
  },
  {
   "cell_type": "code",
   "execution_count": 13,
   "metadata": {
    "collapsed": false
   },
   "outputs": [],
   "source": [
    "##categorical variables converts to Dummys##catego \n",
    "def make_dummies(df, variables):\n",
    "    for variable in variables:\n",
    "        dummies = pd.get_dummies(df[variable], prefix = variable + '_')\n",
    "        df = pd.concat([df, dummies], axis = 1)\n",
    "        df = df.drop(variable, axis = 1)\n",
    "    return df"
   ]
  },
  {
   "cell_type": "code",
   "execution_count": 14,
   "metadata": {
    "collapsed": false
   },
   "outputs": [],
   "source": [
    "y_target = pd.Series(np.where(data5['DIABETE3'].str.contains('Yes'), 1, 0))"
   ]
  },
  {
   "cell_type": "code",
   "execution_count": 15,
   "metadata": {
    "collapsed": false
   },
   "outputs": [],
   "source": [
    "X_full = make_dummies(data5.drop(['DIABETE3'], axis=1), data5.drop(['DIABETE3'], axis=1).columns)"
   ]
  },
  {
   "cell_type": "markdown",
   "metadata": {},
   "source": [
    "## Training Data"
   ]
  },
  {
   "cell_type": "code",
   "execution_count": 105,
   "metadata": {
    "collapsed": false
   },
   "outputs": [],
   "source": [
    "from sklearn.cross_validation import train_test_split\n",
    "X_train, X_test, y_train, y_test = train_test_split(X_full, \n",
    "                                                    y_target, \n",
    "                                                    test_size=0.3, \n",
    "                                                    random_state=10)"
   ]
  },
  {
   "cell_type": "code",
   "execution_count": 17,
   "metadata": {
    "collapsed": false
   },
   "outputs": [],
   "source": [
    "from sklearn import ensemble\n",
    "\n",
    "randomForest = ensemble.RandomForestClassifier(random_state = 1)"
   ]
  },
  {
   "cell_type": "code",
   "execution_count": 19,
   "metadata": {
    "collapsed": false
   },
   "outputs": [
    {
     "data": {
      "text/plain": [
       "GridSearchCV(cv=5, error_score='raise',\n",
       "       estimator=RandomForestClassifier(bootstrap=True, class_weight=None, criterion='gini',\n",
       "            max_depth=None, max_features='auto', max_leaf_nodes=None,\n",
       "            min_impurity_split=1e-07, min_samples_leaf=1,\n",
       "            min_samples_split=2, min_weight_fraction_leaf=0.0,\n",
       "            n_estimators=10, n_jobs=1, oob_score=False, random_state=1,\n",
       "            verbose=0, warm_start=False),\n",
       "       fit_params={}, iid=True, n_jobs=1,\n",
       "       param_grid={'n_estimators': [100, 300], 'min_samples_leaf': [8, 9, 10, 15], 'max_features': [None]},\n",
       "       pre_dispatch='2*n_jobs', refit=True, scoring='accuracy', verbose=0)"
      ]
     },
     "execution_count": 19,
     "metadata": {},
     "output_type": "execute_result"
    }
   ],
   "source": [
    "import sklearn.grid_search as gs\n",
    "\n",
    "grid_para_tree = {\"n_estimators\": [100, 300],\n",
    "                  \"min_samples_leaf\": [8, 9, 10,15],\n",
    "                  \"max_features\": [None]}\n",
    "grid_search_tree = gs.GridSearchCV(randomForest, grid_para_tree, cv=5,\n",
    "                                   scoring='accuracy')\n",
    "grid_search_tree.fit(X_train, y_train)"
   ]
  },
  {
   "cell_type": "code",
   "execution_count": 20,
   "metadata": {
    "collapsed": false
   },
   "outputs": [
    {
     "name": "stdout",
     "output_type": "stream",
     "text": [
      "{'max_features': None, 'min_samples_leaf': 10, 'n_estimators': 300}\n",
      "0.8711157455683003\n"
     ]
    }
   ],
   "source": [
    "print(grid_search_tree.best_params_)\n",
    "print(grid_search_tree.best_score_)"
   ]
  },
  {
   "cell_type": "code",
   "execution_count": 21,
   "metadata": {
    "collapsed": false
   },
   "outputs": [
    {
     "name": "stdout",
     "output_type": "stream",
     "text": [
      "The training error of random forest is: 0.10657\n",
      "The test error of random forest is: 0.12451\n"
     ]
    }
   ],
   "source": [
    "randomForest.set_params(n_estimators = 300, max_features =  None, min_samples_leaf = 10, random_state = 1)\n",
    "randomForest.fit(X_train, y_train)\n",
    "print (\"The training error of random forest is: %.5f\" %(1-randomForest.score(X_train, y_train)))\n",
    "print (\"The test error of random forest is: %.5f\" %(1-randomForest.score(X_test, y_test)))"
   ]
  },
  {
   "cell_type": "code",
   "execution_count": 23,
   "metadata": {
    "collapsed": false,
    "scrolled": false
   },
   "outputs": [],
   "source": [
    "feature_importance = randomForest.feature_importances_\n",
    "feature_importance = 100.0 * (feature_importance / feature_importance.max())\n",
    "top20_sorted_idx = np.argsort(feature_importance)[::-1][:20]\n",
    "pos = np.arange(top20_sorted_idx.shape[0]) + .5\n",
    "\n",
    "#for i in sorted_idx[:30]:\n",
    "#    print(X_train.columns[i], feature_importance[i])"
   ]
  },
  {
   "cell_type": "code",
   "execution_count": 28,
   "metadata": {
    "collapsed": false
   },
   "outputs": [
    {
     "data": {
      "image/png": "[encoded data removed]",
      "text/plain": [
       "<matplotlib.figure.Figure at 0x1a0d0cfc390>"
      ]
     },
     "metadata": {},
     "output_type": "display_data"
    }
   ],
   "source": [
    "# plot\n",
    "import matplotlib.pyplot as plt\n",
    "\n",
    "plt.barh(pos, feature_importance[top20_sorted_idx], align='center')\n",
    "plt.yticks(pos, X_train.columns.values[top20_sorted_idx])\n",
    "plt.xlabel('Relative Importance')\n",
    "plt.title('Variable Importance')\n",
    "plt.show()"
   ]
  },
  {
   "cell_type": "markdown",
   "metadata": {},
   "source": [
    "## Model Evaluation"
   ]
  },
  {
   "cell_type": "code",
   "execution_count": 29,
   "metadata": {
    "collapsed": false
   },
   "outputs": [],
   "source": [
    "from sklearn.metrics import roc_curve\n",
    "\n",
    "# The random forest model by itself\n",
    "y_pred_rf = randomForest.predict_proba(X_test)[:, 1]\n",
    "fpr_rf, tpr_rf, thresholds = roc_curve(y_test, y_pred_rf, pos_label = 1)"
   ]
  },
  {
   "cell_type": "code",
   "execution_count": 30,
   "metadata": {
    "collapsed": false
   },
   "outputs": [
    {
     "data": {
      "image/png": "[encoded data removed]",
      "text/plain": [
       "<matplotlib.figure.Figure at 0x1a0d64de550>"
      ]
     },
     "metadata": {},
     "output_type": "display_data"
    }
   ],
   "source": [
    "plt.figure(1)\n",
    "plt.plot([0, 1], [0, 1], 'k--')\n",
    "plt.plot(fpr_rf, tpr_rf, label='RF')\n",
    "plt.xlabel('False positive rate')\n",
    "plt.ylabel('True positive rate')\n",
    "plt.title('ROC curve')\n",
    "plt.legend(loc='best')\n",
    "plt.show()"
   ]
  },
  {
   "cell_type": "code",
   "execution_count": 107,
   "metadata": {
    "collapsed": false
   },
   "outputs": [
    {
     "data": {
      "text/plain": [
       "array([[5922,   36],\n",
       "       [ 229,  664]])"
      ]
     },
     "execution_count": 107,
     "metadata": {},
     "output_type": "execute_result"
    }
   ],
   "source": [
    "confusion_matrix(y_target, randomForest.predict(X_full))"
   ]
  },
  {
   "cell_type": "code",
   "execution_count": 84,
   "metadata": {
    "collapsed": false
   },
   "outputs": [
    {
     "name": "stdout",
     "output_type": "stream",
     "text": [
      "Populating the interactive namespace from numpy and matplotlib\n"
     ]
    },
    {
     "data": {
      "image/png": "[encoded data removed]",
      "text/plain": [
       "<matplotlib.figure.Figure at 0x1a0d43c8c88>"
      ]
     },
     "metadata": {},
     "output_type": "display_data"
    }
   ],
   "source": [
    "depth = range(5, 50)\n",
    "train_error = []\n",
    "test_error = []\n",
    "for i in depth:\n",
    "    randomForest.set_params(max_depth = i, min_samples_leaf=1, n_estimators = 100)\n",
    "    randomForest.fit(X_train, y_train)\n",
    "    train_error.append(1 - randomForest.score(X_train, y_train))\n",
    "    test_error.append(1 - randomForest.score(X_test, y_test))\n",
    "\n",
    "%pylab inline\n",
    "import matplotlib.pyplot as pl\n",
    "pl.plot(depth, train_error, c = 'red', label = 'training error')\n",
    "pl.plot(depth, test_error, c = 'blue', label = 'test error')\n",
    "pl.ylim(0, 0.18)\n",
    "pl.legend()\n",
    "pl.show()"
   ]
  },
  {
   "cell_type": "code",
   "execution_count": null,
   "metadata": {
    "collapsed": true
   },
   "outputs": [],
   "source": []
  }
 ],
 "metadata": {
  "kernelspec": {
   "display_name": "Python 3",
   "language": "python",
   "name": "python3"
  },
  "language_info": {
   "codemirror_mode": {
    "name": "ipython",
    "version": 3
   },
   "file_extension": ".py",
   "mimetype": "text/x-python",
   "name": "python",
   "nbconvert_exporter": "python",
   "pygments_lexer": "ipython3",
   "version": "3.6.0"
  }
 },
 "nbformat": 4,
 "nbformat_minor": 2
}
