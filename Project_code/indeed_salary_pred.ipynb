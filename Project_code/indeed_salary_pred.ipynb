{
 "cells": [
  {
   "cell_type": "code",
   "execution_count": 1,
   "metadata": {
    "collapsed": true
   },
   "outputs": [],
   "source": [
    "import pandas as pd\n",
    "import numpy as np\n",
    "import matplotlib.pyplot as plt"
   ]
  },
  {
   "cell_type": "code",
   "execution_count": 54,
   "metadata": {
    "collapsed": true
   },
   "outputs": [],
   "source": [
    "data = pd.read_csv(r'C:/Users/ruonan.ding/Downloads/train_features.csv',\n",
    "                   encoding=\"cp1252\")"
   ]
  },
  {
   "cell_type": "code",
   "execution_count": 4,
   "metadata": {
    "collapsed": true
   },
   "outputs": [],
   "source": [
    "continuousVar = data.describe().columns\n",
    "categoricalVar = [i for i in data.columns if i not in continuousVar]"
   ]
  },
  {
   "cell_type": "code",
   "execution_count": 5,
   "metadata": {
    "collapsed": false
   },
   "outputs": [
    {
     "name": "stdout",
     "output_type": "stream",
     "text": [
      "0.0\n",
      "0.0\n",
      "0.0\n",
      "0.236854\n",
      "0.532355\n",
      "0.0\n"
     ]
    }
   ],
   "source": [
    "for col in data[categoricalVar]:\n",
    "    print (data[data[col] == 'NONE'].shape[0] / data.shape[0])\n",
    "    \n",
    "# data[data['degree'] == 'NONE']\n",
    "\n",
    "## This means when there is NONE in degree, there is NONE in major."
   ]
  },
  {
   "cell_type": "code",
   "execution_count": 6,
   "metadata": {
    "collapsed": false
   },
   "outputs": [],
   "source": [
    "degree_order = {\"NONE\": 0, \"HIGH_SCHOOL\": 1, 'BACHELORS': 2, 'MASTERS': 3, 'DOCTORAL': 4}\n",
    "\n",
    "new =[]\n",
    "for i in data['degree']:\n",
    "    if i in degree_order:\n",
    "        new.append(degree_order[i])\n",
    "\n",
    "data['new_degree'] = pd.Series(new)\n",
    "data = data.drop('degree', axis = 1)"
   ]
  },
  {
   "cell_type": "code",
   "execution_count": 7,
   "metadata": {
    "collapsed": false
   },
   "outputs": [
    {
     "name": "stdout",
     "output_type": "stream",
     "text": [
      "number of comapies: 63.0\n",
      "number of major: 9.0\n",
      "number of jobType: 8.0\n",
      "number of industry: 7.0\n"
     ]
    }
   ],
   "source": [
    "print ('number of comapies: %.1f' % len(data['companyId'].factorize()[1]))\n",
    "print ('number of major: %.1f' % len(data['major'].factorize()[1]))\n",
    "print ('number of jobType: %.1f' % len(data['jobType'].factorize()[1]))\n",
    "print ('number of industry: %.1f' % len(data['industry'].factorize()[1]))"
   ]
  },
  {
   "cell_type": "code",
   "execution_count": 24,
   "metadata": {
    "collapsed": false
   },
   "outputs": [],
   "source": [
    "data.companyId = data.companyId.astype('category').cat.codes\n",
    "data.major = data.major.astype('category').cat.codes\n",
    "data.jobType = data.jobType.astype('category').cat.codes\n",
    "data.industry = data.industry.astype('category').cat.codes\n",
    "\n",
    "X_full = data.set_index('jobId')"
   ]
  },
  {
   "cell_type": "code",
   "execution_count": 8,
   "metadata": {
    "collapsed": false
   },
   "outputs": [],
   "source": [
    "def feature_hashing(data, column_name, n_feature):\n",
    "    from sklearn.feature_extraction import FeatureHasher\n",
    "    fh = FeatureHasher(n_features = n_feature, input_type='string')\n",
    "    hashed_features = fh.fit_transform(data[column_name]).toarray()\n",
    "    \n",
    "    hash_name = []\n",
    "    for i in range(1, n_feature + 1):\n",
    "        hash_name.append(column_name + str(i))\n",
    "    return pd.DataFrame(hashed_features, columns = hash_name)"
   ]
  },
  {
   "cell_type": "code",
   "execution_count": 14,
   "metadata": {
    "collapsed": false
   },
   "outputs": [],
   "source": [
    "A = pd.concat([feature_hashing(data, 'jobType', 1), \n",
    "               feature_hashing(data, 'industry', 1), \n",
    "               feature_hashing(data, 'major', 1)], \n",
    "              axis = 1)\n",
    "B = pd.concat([A, feature_hashing(data, 'companyId', 10)], axis = 1)\n",
    "\n",
    "X_full = pd.concat([data[continuousVar], data['new_degree'], B], axis = 1).set_index(data['jobId'])"
   ]
  },
  {
   "cell_type": "code",
   "execution_count": 25,
   "metadata": {
    "collapsed": false
   },
   "outputs": [
    {
     "data": {
      "text/html": [
       "<div>\n",
       "<table border=\"1\" class=\"dataframe\">\n",
       "  <thead>\n",
       "    <tr style=\"text-align: right;\">\n",
       "      <th></th>\n",
       "      <th>companyId</th>\n",
       "      <th>jobType</th>\n",
       "      <th>major</th>\n",
       "      <th>industry</th>\n",
       "      <th>yearsExperience</th>\n",
       "      <th>milesFromMetropolis</th>\n",
       "      <th>new_degree</th>\n",
       "    </tr>\n",
       "    <tr>\n",
       "      <th>jobId</th>\n",
       "      <th></th>\n",
       "      <th></th>\n",
       "      <th></th>\n",
       "      <th></th>\n",
       "      <th></th>\n",
       "      <th></th>\n",
       "      <th></th>\n",
       "    </tr>\n",
       "  </thead>\n",
       "  <tbody>\n",
       "    <tr>\n",
       "      <th>JOB1362684407687</th>\n",
       "      <td>31</td>\n",
       "      <td>1</td>\n",
       "      <td>6</td>\n",
       "      <td>3</td>\n",
       "      <td>10</td>\n",
       "      <td>83</td>\n",
       "      <td>3</td>\n",
       "    </tr>\n",
       "    <tr>\n",
       "      <th>JOB1362684407688</th>\n",
       "      <td>11</td>\n",
       "      <td>0</td>\n",
       "      <td>7</td>\n",
       "      <td>6</td>\n",
       "      <td>3</td>\n",
       "      <td>73</td>\n",
       "      <td>1</td>\n",
       "    </tr>\n",
       "    <tr>\n",
       "      <th>JOB1362684407689</th>\n",
       "      <td>48</td>\n",
       "      <td>7</td>\n",
       "      <td>8</td>\n",
       "      <td>3</td>\n",
       "      <td>10</td>\n",
       "      <td>38</td>\n",
       "      <td>4</td>\n",
       "    </tr>\n",
       "    <tr>\n",
       "      <th>JOB1362684407690</th>\n",
       "      <td>32</td>\n",
       "      <td>5</td>\n",
       "      <td>2</td>\n",
       "      <td>0</td>\n",
       "      <td>8</td>\n",
       "      <td>17</td>\n",
       "      <td>4</td>\n",
       "    </tr>\n",
       "    <tr>\n",
       "      <th>JOB1362684407691</th>\n",
       "      <td>60</td>\n",
       "      <td>7</td>\n",
       "      <td>8</td>\n",
       "      <td>2</td>\n",
       "      <td>8</td>\n",
       "      <td>16</td>\n",
       "      <td>2</td>\n",
       "    </tr>\n",
       "    <tr>\n",
       "      <th>JOB1362684407692</th>\n",
       "      <td>7</td>\n",
       "      <td>5</td>\n",
       "      <td>3</td>\n",
       "      <td>2</td>\n",
       "      <td>2</td>\n",
       "      <td>31</td>\n",
       "      <td>4</td>\n",
       "    </tr>\n",
       "    <tr>\n",
       "      <th>JOB1362684407693</th>\n",
       "      <td>7</td>\n",
       "      <td>1</td>\n",
       "      <td>7</td>\n",
       "      <td>3</td>\n",
       "      <td>23</td>\n",
       "      <td>24</td>\n",
       "      <td>0</td>\n",
       "    </tr>\n",
       "    <tr>\n",
       "      <th>JOB1362684407694</th>\n",
       "      <td>17</td>\n",
       "      <td>4</td>\n",
       "      <td>2</td>\n",
       "      <td>1</td>\n",
       "      <td>9</td>\n",
       "      <td>70</td>\n",
       "      <td>2</td>\n",
       "    </tr>\n",
       "    <tr>\n",
       "      <th>JOB1362684407695</th>\n",
       "      <td>13</td>\n",
       "      <td>3</td>\n",
       "      <td>7</td>\n",
       "      <td>1</td>\n",
       "      <td>1</td>\n",
       "      <td>54</td>\n",
       "      <td>1</td>\n",
       "    </tr>\n",
       "    <tr>\n",
       "      <th>JOB1362684407696</th>\n",
       "      <td>36</td>\n",
       "      <td>7</td>\n",
       "      <td>2</td>\n",
       "      <td>0</td>\n",
       "      <td>17</td>\n",
       "      <td>68</td>\n",
       "      <td>2</td>\n",
       "    </tr>\n",
       "    <tr>\n",
       "      <th>JOB1362684407697</th>\n",
       "      <td>52</td>\n",
       "      <td>3</td>\n",
       "      <td>7</td>\n",
       "      <td>3</td>\n",
       "      <td>24</td>\n",
       "      <td>30</td>\n",
       "      <td>1</td>\n",
       "    </tr>\n",
       "    <tr>\n",
       "      <th>JOB1362684407698</th>\n",
       "      <td>60</td>\n",
       "      <td>0</td>\n",
       "      <td>8</td>\n",
       "      <td>1</td>\n",
       "      <td>7</td>\n",
       "      <td>79</td>\n",
       "      <td>3</td>\n",
       "    </tr>\n",
       "    <tr>\n",
       "      <th>JOB1362684407699</th>\n",
       "      <td>34</td>\n",
       "      <td>4</td>\n",
       "      <td>7</td>\n",
       "      <td>4</td>\n",
       "      <td>8</td>\n",
       "      <td>29</td>\n",
       "      <td>0</td>\n",
       "    </tr>\n",
       "    <tr>\n",
       "      <th>JOB1362684407700</th>\n",
       "      <td>50</td>\n",
       "      <td>4</td>\n",
       "      <td>6</td>\n",
       "      <td>2</td>\n",
       "      <td>21</td>\n",
       "      <td>26</td>\n",
       "      <td>3</td>\n",
       "    </tr>\n",
       "    <tr>\n",
       "      <th>JOB1362684407701</th>\n",
       "      <td>53</td>\n",
       "      <td>3</td>\n",
       "      <td>7</td>\n",
       "      <td>0</td>\n",
       "      <td>21</td>\n",
       "      <td>81</td>\n",
       "      <td>0</td>\n",
       "    </tr>\n",
       "  </tbody>\n",
       "</table>\n",
       "</div>"
      ],
      "text/plain": [
       "                  companyId  jobType  major  industry  yearsExperience  \\\n",
       "jobId                                                                    \n",
       "JOB1362684407687         31        1      6         3               10   \n",
       "JOB1362684407688         11        0      7         6                3   \n",
       "JOB1362684407689         48        7      8         3               10   \n",
       "JOB1362684407690         32        5      2         0                8   \n",
       "JOB1362684407691         60        7      8         2                8   \n",
       "JOB1362684407692          7        5      3         2                2   \n",
       "JOB1362684407693          7        1      7         3               23   \n",
       "JOB1362684407694         17        4      2         1                9   \n",
       "JOB1362684407695         13        3      7         1                1   \n",
       "JOB1362684407696         36        7      2         0               17   \n",
       "JOB1362684407697         52        3      7         3               24   \n",
       "JOB1362684407698         60        0      8         1                7   \n",
       "JOB1362684407699         34        4      7         4                8   \n",
       "JOB1362684407700         50        4      6         2               21   \n",
       "JOB1362684407701         53        3      7         0               21   \n",
       "\n",
       "                  milesFromMetropolis  new_degree  \n",
       "jobId                                              \n",
       "JOB1362684407687                   83           3  \n",
       "JOB1362684407688                   73           1  \n",
       "JOB1362684407689                   38           4  \n",
       "JOB1362684407690                   17           4  \n",
       "JOB1362684407691                   16           2  \n",
       "JOB1362684407692                   31           4  \n",
       "JOB1362684407693                   24           0  \n",
       "JOB1362684407694                   70           2  \n",
       "JOB1362684407695                   54           1  \n",
       "JOB1362684407696                   68           2  \n",
       "JOB1362684407697                   30           1  \n",
       "JOB1362684407698                   79           3  \n",
       "JOB1362684407699                   29           0  \n",
       "JOB1362684407700                   26           3  \n",
       "JOB1362684407701                   81           0  "
      ]
     },
     "execution_count": 25,
     "metadata": {},
     "output_type": "execute_result"
    }
   ],
   "source": [
    "X_full.head(15)"
   ]
  },
  {
   "cell_type": "code",
   "execution_count": 16,
   "metadata": {
    "collapsed": true
   },
   "outputs": [],
   "source": [
    "train_y = pd.read_csv(r'C:/Users/ruonan.ding/Downloads/train_salaries.csv',\n",
    "                   encoding=\"cp1252\")"
   ]
  },
  {
   "cell_type": "code",
   "execution_count": 17,
   "metadata": {
    "collapsed": false
   },
   "outputs": [],
   "source": [
    "y_target = pd.Series(train_y['salary'])"
   ]
  },
  {
   "cell_type": "code",
   "execution_count": 18,
   "metadata": {
    "collapsed": false
   },
   "outputs": [
    {
     "data": {
      "image/png": "[encoded data removed]",
      "text/plain": [
       "<matplotlib.figure.Figure at 0x2889eaa9e10>"
      ]
     },
     "metadata": {},
     "output_type": "display_data"
    }
   ],
   "source": [
    "import matplotlib.pyplot as plt\n",
    "train_y['salary'].hist(bins=100)\n",
    "plt.show()"
   ]
  },
  {
   "cell_type": "code",
   "execution_count": 26,
   "metadata": {
    "collapsed": false
   },
   "outputs": [],
   "source": [
    "from sklearn.cross_validation import train_test_split\n",
    "X_train, X_test, y_train, y_test = train_test_split (X_full, y_target, test_size = 0.40, random_state= 30)"
   ]
  },
  {
   "cell_type": "code",
   "execution_count": 27,
   "metadata": {
    "collapsed": false
   },
   "outputs": [
    {
     "data": {
      "text/plain": [
       "GradientBoostingRegressor(alpha=0.9, criterion='friedman_mse', init=None,\n",
       "             learning_rate=0.05, loss='ls', max_depth=10,\n",
       "             max_features=None, max_leaf_nodes=None,\n",
       "             min_impurity_split=1e-07, min_samples_leaf=1,\n",
       "             min_samples_split=2, min_weight_fraction_leaf=0.0,\n",
       "             n_estimators=100, presort='auto', random_state=None,\n",
       "             subsample=1.0, verbose=0, warm_start=False)"
      ]
     },
     "execution_count": 27,
     "metadata": {},
     "output_type": "execute_result"
    }
   ],
   "source": [
    "from sklearn import ensemble\n",
    "from sklearn import grid_search\n",
    "from sklearn.metrics import mean_squared_error\n",
    "\n",
    "grid_params = {'n_estimators': 100, 'max_depth': 10, 'min_samples_split': 2,\n",
    "          'learning_rate': 0.05, 'loss': 'ls'}\n",
    "\n",
    "gbrt = ensemble.GradientBoostingRegressor(**grid_params)\n",
    "\n",
    "gbrt.fit(X_train, y_train)"
   ]
  },
  {
   "cell_type": "code",
   "execution_count": 28,
   "metadata": {
    "collapsed": false
   },
   "outputs": [
    {
     "data": {
      "image/png": "[encoded data removed]",
      "text/plain": [
       "<matplotlib.figure.Figure at 0x288b411b8d0>"
      ]
     },
     "metadata": {},
     "output_type": "display_data"
    }
   ],
   "source": [
    "# compute test set deviance\n",
    "test_score = np.zeros((grid_params['n_estimators'],), dtype=np.float64)\n",
    "\n",
    "for i, y_pred in enumerate(gbrt.staged_predict(X_test)):\n",
    "    test_score[i] = gbrt.loss_(y_test, y_pred)\n",
    "\n",
    "plt.figure(figsize=(12, 6))\n",
    "plt.subplot(1, 2, 1)\n",
    "plt.title('Deviance')\n",
    "plt.plot(np.arange(grid_params['n_estimators']) + 1, gbrt.train_score_, 'b-',\n",
    "         label='Training Set Deviance')\n",
    "plt.plot(np.arange(grid_params['n_estimators']) + 1, test_score, 'r-',\n",
    "         label='Test Set Deviance')\n",
    "plt.legend(loc='upper right')\n",
    "plt.xlabel('Boosting Iterations')\n",
    "plt.ylabel('Deviance')\n",
    "plt.show()"
   ]
  },
  {
   "cell_type": "code",
   "execution_count": 29,
   "metadata": {
    "collapsed": false
   },
   "outputs": [
    {
     "data": {
      "image/png": "[encoded data removed]",
      "text/plain": [
       "<matplotlib.figure.Figure at 0x288b42242b0>"
      ]
     },
     "metadata": {},
     "output_type": "display_data"
    }
   ],
   "source": [
    "feature_importance = gbrt.feature_importances_\n",
    "# make importances relative to max importance\n",
    "feature_importance = 100.0 * (feature_importance / feature_importance.max())\n",
    "sorted_idx = np.argsort(feature_importance)\n",
    "pos = np.arange(sorted_idx.shape[0]) + .5\n",
    "plt.subplot(1, 2, 2)\n",
    "plt.barh(pos, feature_importance[sorted_idx], align='center')\n",
    "plt.yticks(pos, X_full.columns[sorted_idx])\n",
    "plt.xlabel('Relative Importance')\n",
    "plt.title('Variable Importance')\n",
    "plt.show()"
   ]
  },
  {
   "cell_type": "code",
   "execution_count": 48,
   "metadata": {
    "collapsed": false
   },
   "outputs": [
    {
     "name": "stdout",
     "output_type": "stream",
     "text": [
      "RMSE of train GBM: 18.3204\n",
      "RMSE of test GBM: 19.0068\n",
      "R2 of train GBM: 0.7763\n",
      "R2 of test GBM: 0.7587\n"
     ]
    }
   ],
   "source": [
    "from sklearn.metrics import mean_squared_error\n",
    "import math\n",
    "\n",
    "print(\"RMSE of train GBM: %.4f\" % math.sqrt(mean_squared_error(y_train, gbrt.predict(X_train))))\n",
    "print(\"RMSE of test GBM: %.4f\" % math.sqrt(mean_squared_error(y_test, gbrt.predict(X_test))))\n",
    "print(\"R2 of train GBM: %.4f\" % gbrt.score(X_train, y_train))\n",
    "print(\"R2 of test GBM: %.4f\" % gbrt.score(X_test, y_test))"
   ]
  },
  {
   "cell_type": "code",
   "execution_count": null,
   "metadata": {
    "collapsed": false
   },
   "outputs": [],
   "source": []
  },
  {
   "cell_type": "code",
   "execution_count": 31,
   "metadata": {
    "collapsed": false
   },
   "outputs": [
    {
     "data": {
      "text/plain": [
       "['gbrt3.pkl']"
      ]
     },
     "execution_count": 31,
     "metadata": {},
     "output_type": "execute_result"
    }
   ],
   "source": [
    "from sklearn.externals import joblib\n",
    "# now you can save it to a file\n",
    "joblib.dump(gbrt, 'gbrt3.pkl') "
   ]
  },
  {
   "cell_type": "code",
   "execution_count": null,
   "metadata": {
    "collapsed": true
   },
   "outputs": [],
   "source": []
  },
  {
   "cell_type": "code",
   "execution_count": null,
   "metadata": {
    "collapsed": true
   },
   "outputs": [],
   "source": [
    "import pandas as pd\n",
    "import numpy as np\n",
    "import matplotlib.pyplot as plt\n",
    "\n",
    "data = pd.read_csv(r'C:/Users/ruonan.ding/Downloads/test_features.csv',\n",
    "                   encoding=\"cp1252\")"
   ]
  },
  {
   "cell_type": "code",
   "execution_count": null,
   "metadata": {
    "collapsed": true
   },
   "outputs": [],
   "source": [
    "continuousVar = data.describe().columns\n",
    "categoricalVar = [i for i in data.columns if i not in continuousVar]"
   ]
  },
  {
   "cell_type": "code",
   "execution_count": null,
   "metadata": {
    "collapsed": true
   },
   "outputs": [],
   "source": [
    "degree_order = {\"NONE\": 0, \"HIGH_SCHOOL\": 1, 'BACHELORS': 2, 'MASTERS': 3, 'DOCTORAL': 4}\n",
    "\n",
    "new =[]\n",
    "for i in data['degree']:\n",
    "    if i in degree_order:\n",
    "        new.append(degree_order[i])\n",
    "\n",
    "data['new_degree'] = pd.Series(new)\n",
    "data = data.drop('degree', axis = 1)\n",
    "\n",
    "data.companyId = data.companyId.astype('category').cat.codes\n",
    "data.major = data.major.astype('category').cat.codes\n",
    "data.jobType = data.jobType.astype('category').cat.codes\n",
    "data.industry = data.industry.astype('category').cat.codes\n",
    "\n",
    "X_full = data.set_index('jobId')"
   ]
  },
  {
   "cell_type": "code",
   "execution_count": null,
   "metadata": {
    "collapsed": true
   },
   "outputs": [],
   "source": [
    "data['salary'] = pd.Series(np.round(gbrt.predict(X_full)))"
   ]
  },
  {
   "cell_type": "code",
   "execution_count": null,
   "metadata": {
    "collapsed": true
   },
   "outputs": [],
   "source": [
    "data[['jobId', 'salary']].to_csv('test_salaries.csv', index = False)"
   ]
  }
 ],
 "metadata": {
  "kernelspec": {
   "display_name": "Python 3",
   "language": "python",
   "name": "python3"
  },
  "language_info": {
   "codemirror_mode": {
    "name": "ipython",
    "version": 3
   },
   "file_extension": ".py",
   "mimetype": "text/x-python",
   "name": "python",
   "nbconvert_exporter": "python",
   "pygments_lexer": "ipython3",
   "version": "3.6.0"
  }
 },
 "nbformat": 4,
 "nbformat_minor": 2
}
