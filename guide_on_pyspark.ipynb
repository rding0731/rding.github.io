{
 "cells": [
  {
   "cell_type": "markdown",
   "metadata": {},
   "source": [
    "# GUIDE ON PYSPARK OPERATIONS\n",
    "---\n",
    "## Language\n",
    "- Python 2.7\n",
    "- Spark/PySpark 1.6\n",
    "\n",
    "## Table of Contents\n",
    " 1. [Initial Setup (Required)](#Initial Setup)\n",
    " 2. [Import Data](#Import Data)\n",
    "     import hdfs hive tables from cornerstone\n",
    " 3. [Inspect Data](#Inspect Data)\n",
    "       <br />a. [Show Table](#first rows)\n",
    "       <br />b. [Table Dimension](#DF dimension)\n",
    "       <br />c. [Schema Review](#Schema)\n",
    "       <br />d. hive table metadata (variable desc) (Tad is codeready)\n",
    " 4. [Exam Data](#missing value)\n",
    "       <br />a. [Describe DataFrame](#describe)\n",
    "       <br />b. [Missing Value](#null)\n",
    "       <br />c. [NA Value](#NA)\n",
    "       <br />d. [Unique Value](#duplicates)\n",
    " 5. [Data Cleaning](#data cleaning)\n",
    "       <br />a. [Null Drop/Fill](#treatment)\n",
    "       <br />b. [Time Format](#time_table)\n",
    "       <br />c. [Change Float to String](#change_schema)\n",
    "       <br />d. [String Structure](#string_split)\n",
    " 6. [SQL Data Extraction](#sql)\n",
    "       <br />a. [Select, Filter, Delete, Sort](#select_filter)\n",
    "       <br />b. [Group By and Summerize](#group_by)\n",
    "       <br />c. [Deriving New Variables](#new_var)\n",
    "       <br />d. [Renanme Variables](#rename_var)\n",
    " 7. [SQL Table Relationship](#relationship)\n",
    "       <br />a. [Append Rows](#append)\n",
    "       <br />b. [Add Columns](#adding columns)\n",
    "       <br />c. [Join Tables](#joins)\n",
    " 8. [Analysis](#statistic)\n",
    " 9. [Sampling Method and Data Ouput](#output)"
   ]
  },
  {
   "cell_type": "markdown",
   "metadata": {},
   "source": [
    "<a id='Initial Setup'></a>"
   ]
  },
  {
   "cell_type": "markdown",
   "metadata": {},
   "source": [
    "## 1. Initial Setup\n",
    "\n",
    "In this section, we will cover initializing a local SparkContext, which is then wrapped with SQLContext for additional functionality.  \n",
    "    - SparkContext object, which represents a connection to a computer cluster.  \n",
    "    - SQLContext is the main entry point for Spark DataFrame and SQL functionality.  It can create data frame which allows you to direct the operation on your data. "
   ]
  },
  {
   "cell_type": "code",
   "execution_count": 30,
   "metadata": {},
   "outputs": [
    {
     "name": "stdout",
     "output_type": "stream",
     "text": [
      "Setup Ready\n",
      "1.6.1\n"
     ]
    }
   ],
   "source": [
    "from IPython.display import display, HTML\n",
    "from pyspark import SQLContext, SparkContext\n",
    "from pyspark.sql.functions import *\n",
    "from pyspark.sql.types import *\n",
    "\n",
    "import os\n",
    "SUBMIT_ARGS = \"--packages com.databricks:spark-csv_2.11:1.2.0 pyspark-shell\"\n",
    "os.environ[\"PYSPARK_SUBMIT_ARGS\"] = SUBMIT_ARGS\n",
    "\n",
    "try:\n",
    "    sc = SparkContext()\n",
    "    sqlc = SQLContext(sc)\n",
    "except:\n",
    "    print \"Setup Ready\"\n",
    "    \n",
    "    # Verifying if Spark is active\n",
    "print(sc.version)"
   ]
  },
  {
   "cell_type": "markdown",
   "metadata": {},
   "source": [
    "<a id='Import Data'></a>"
   ]
  },
  {
   "cell_type": "markdown",
   "metadata": {},
   "source": [
    "## 2. Import Data \n",
    "\n",
    "In this section, we will cover how to load a flat file (specifically, a csv) using a custom format reader."
   ]
  },
  {
   "cell_type": "code",
   "execution_count": 31,
   "metadata": {
    "collapsed": true
   },
   "outputs": [],
   "source": [
    "## IN SAS:\n",
    "#{\"IsDistinguishedFolder\":true,\"FolderId\":{\"Id\":\"AAMkADQ1YTQ0MmY3LTdmYjMtNGM5Zi1hYTY2LTUyNmFmMGI4YjE3ZQAuAAAAAADXkznN6HMLRoMOPc/OzpiAAQCuiSOT3Tn/ToC85VO/Qu1kAAAAAAEMAAA=\",\"ChangeKey\":\"AQAAABYAAACuiSOT3Tn/ToC85VO/Qu1kAACLRDeL\"},\"DragItemType\":2}# SAS equivalent: proc import\n",
    "# proc import datafile=\"../data/cs-training-dates.csv\"\n",
    "#             dbms=csv\n",
    "#             out=loans\n",
    "#             replace;\n",
    "#         delimiter=\",\";\n",
    "#         getnames=yes;\n",
    "# run;"
   ]
  },
  {
   "cell_type": "code",
   "execution_count": 32,
   "metadata": {
    "collapsed": true
   },
   "outputs": [],
   "source": [
    "# First, speicify the path to the file.\n",
    "data_file = \"../a1_data/cs-training.csv\"\n",
    "\n",
    "# SQLContext read in the file and create a dataframe called \"df\"\n",
    "df = (sqlc.read\n",
    "      .format(\"com.databricks.spark.csv\") # in the quotation mark you can change to your file type, i.e. (\"json\")\n",
    "      .option(\"header\", \"true\") # with header\n",
    "      .option(\"inferschema\", \"true\") # schema is true\n",
    "      .load(data_file)) # load the file path you declared earlier"
   ]
  },
  {
   "cell_type": "markdown",
   "metadata": {},
   "source": [
    "#### Note: \n",
    "\n",
    "Import data from multiple file formats. Please use help(sqlc.read) to explore. \n",
    "\n",
    "##### If you know your file type, you can use the following:\n",
    "    - df_text = sqlc.read.text(\"***  .txt file path****\")\n",
    "    - df_json = sqlc.read.json(\"*** .json file path****\")\n",
    "    - df_parquet = sqlc.read.parquet(\"***.parquet file path****\")\n",
    "\n",
    "##### sqlc.read.load is the general way to handle different format. \n",
    "    - df = sqlc.read.format('jdbc').options(url=url;dbtable=query).load() "
   ]
  },
  {
   "cell_type": "markdown",
   "metadata": {},
   "source": [
    "<a id='Inspect Data'></a>"
   ]
  },
  {
   "cell_type": "markdown",
   "metadata": {},
   "source": [
    "## 3. Inspect Data\n",
    "\n",
    "In this section, we will be looking at how to get an overview of the data.\n",
    "\n",
    "<a id=\"first rows\"></a>\n",
    "### 3.a)  Show Table\n",
    "This is to look at the first 2 rows of the data. "
   ]
  },
  {
   "cell_type": "code",
   "execution_count": 33,
   "metadata": {},
   "outputs": [
    {
     "name": "stdout",
     "output_type": "stream",
     "text": [
      "+-------+----------------+------------------------------------+---+------------------------------------+-----------+-------------+-------------------------------+-----------------------+----------------------------+------------------------------------+------------------+\n",
      "|user_id|SeriousDlqin2yrs|RevolvingUtilizationOfUnsecuredLines|age|NumberOfTime30_59DaysPastDueNotWorse|  DebtRatio|MonthlyIncome|NumberOfOpenCreditLinesAndLoans|NumberOfTimes90DaysLate|NumberRealEstateLoansOrLines|NumberOfTime60_89DaysPastDueNotWorse|NumberOfDependents|\n",
      "+-------+----------------+------------------------------------+---+------------------------------------+-----------+-------------+-------------------------------+-----------------------+----------------------------+------------------------------------+------------------+\n",
      "|  10000|               1|                         0.766126609| 45|                                   2|0.802982129|         9120|                             13|                      0|                           6|                                   0|                 2|\n",
      "|  10001|               0|                         0.957151019| 40|                                   0|0.121876201|         2600|                              4|                      0|                           0|                                   0|                 1|\n",
      "+-------+----------------+------------------------------------+---+------------------------------------+-----------+-------------+-------------------------------+-----------------------+----------------------------+------------------------------------+------------------+\n",
      "only showing top 2 rows\n",
      "\n"
     ]
    }
   ],
   "source": [
    "df.show(2)\n",
    "## Alternatively, \n",
    "# df.first(): this can show you the first row of the data. "
   ]
  },
  {
   "cell_type": "markdown",
   "metadata": {},
   "source": [
    "<a id='DF dimension'></a>\n",
    "### 3.b) Tabel Dimension\n",
    "Check the shape of the dataframe"
   ]
  },
  {
   "cell_type": "code",
   "execution_count": 34,
   "metadata": {},
   "outputs": [
    {
     "name": "stdout",
     "output_type": "stream",
     "text": [
      "number of rows: 150000\n",
      "number of columns: 12\n"
     ]
    }
   ],
   "source": [
    "## check the shape of the dataframe\n",
    "print \"number of rows: {!r}\".format(df.count()) # total number of rows\n",
    "print \"number of columns: {!r}\".format(len(df.columns))"
   ]
  },
  {
   "cell_type": "markdown",
   "metadata": {},
   "source": [
    "<a id=\"Schema\"></a>\n",
    "### 3.c) Schema Review\n",
    "<br />Print Schema of the imported data frame"
   ]
  },
  {
   "cell_type": "code",
   "execution_count": 35,
   "metadata": {},
   "outputs": [
    {
     "name": "stdout",
     "output_type": "stream",
     "text": [
      "root\n",
      " |-- user_id: integer (nullable = true)\n",
      " |-- SeriousDlqin2yrs: integer (nullable = true)\n",
      " |-- RevolvingUtilizationOfUnsecuredLines: double (nullable = true)\n",
      " |-- age: integer (nullable = true)\n",
      " |-- NumberOfTime30_59DaysPastDueNotWorse: integer (nullable = true)\n",
      " |-- DebtRatio: double (nullable = true)\n",
      " |-- MonthlyIncome: string (nullable = true)\n",
      " |-- NumberOfOpenCreditLinesAndLoans: integer (nullable = true)\n",
      " |-- NumberOfTimes90DaysLate: integer (nullable = true)\n",
      " |-- NumberRealEstateLoansOrLines: integer (nullable = true)\n",
      " |-- NumberOfTime60_89DaysPastDueNotWorse: integer (nullable = true)\n",
      " |-- NumberOfDependents: string (nullable = true)\n",
      "\n"
     ]
    }
   ],
   "source": [
    "df.printSchema()\n",
    "#df.dtypes # this will give you a list of the tuples (column name , type)\n",
    "# df.columns # this will give you a list of colnames only"
   ]
  },
  {
   "cell_type": "code",
   "execution_count": 36,
   "metadata": {
    "collapsed": true
   },
   "outputs": [],
   "source": [
    "## This is to save the schema of the table to the a .csv file if you want. It is named schema.csv in this example.\n",
    "#schema = sqlc.createDataFrame(df.dtypes,\n",
    "#                              StructType([StructField('Column',StringType(),True),\n",
    "#                                          StructField('DataType',StringType(),True)]))\n",
    "#schema.write.format(\"com.databricks.spark.csv\").option(\"header\", \"true\").save(\"schema.csv\")"
   ]
  },
  {
   "cell_type": "markdown",
   "metadata": {},
   "source": [
    "<a id='missing value'></a>\n",
    "## 4. Exam Data\n",
    "In this section, we will exam the quality of the dataframe, including missing value (NULL), blank, or \"NA\" in the record. \n",
    "<a id=\"describe\"></a>\n",
    "### 4.a) Description of the DataFrame"
   ]
  },
  {
   "cell_type": "code",
   "execution_count": 37,
   "metadata": {},
   "outputs": [
    {
     "name": "stdout",
     "output_type": "stream",
     "text": [
      "+-------+------------------+-------------------+------------------------------------+\n",
      "|summary|               age|   SeriousDlqin2yrs|RevolvingUtilizationOfUnsecuredLines|\n",
      "+-------+------------------+-------------------+------------------------------------+\n",
      "|  count|            150000|             150000|                              150000|\n",
      "|   mean|52.295206666666665|            0.06684|                    6.04843805466686|\n",
      "| stddev|14.771865863100352|0.24974553092872043|                  249.75537062543987|\n",
      "|    min|                 0|                  0|                                 0.0|\n",
      "|    max|               109|                  1|                             50708.0|\n",
      "+-------+------------------+-------------------+------------------------------------+\n",
      "\n"
     ]
    }
   ],
   "source": [
    "# To give an overview of your selected variables\n",
    "df.describe([\"age\", \"SeriousDlqin2yrs\", \"RevolvingUtilizationOfUnsecuredLines\"]).show()"
   ]
  },
  {
   "cell_type": "code",
   "execution_count": 38,
   "metadata": {},
   "outputs": [
    {
     "name": "stdout",
     "output_type": "stream",
     "text": [
      "+-------+------------------+\n",
      "|summary|           user_id|\n",
      "+-------+------------------+\n",
      "|  count|            150000|\n",
      "|   mean|           84999.5|\n",
      "| stddev|43301.414526548666|\n",
      "|    min|             10000|\n",
      "|    max|            159999|\n",
      "+-------+------------------+\n",
      "\n",
      "None\n",
      "+-------+-------------------+\n",
      "|summary|   SeriousDlqin2yrs|\n",
      "+-------+-------------------+\n",
      "|  count|             150000|\n",
      "|   mean|            0.06684|\n",
      "| stddev|0.24974553092872043|\n",
      "|    min|                  0|\n",
      "|    max|                  1|\n",
      "+-------+-------------------+\n",
      "\n",
      "None\n",
      "+-------+------------------------------------+\n",
      "|summary|RevolvingUtilizationOfUnsecuredLines|\n",
      "+-------+------------------------------------+\n",
      "|  count|                              150000|\n",
      "|   mean|                    6.04843805466686|\n",
      "| stddev|                  249.75537062543987|\n",
      "|    min|                                 0.0|\n",
      "|    max|                             50708.0|\n",
      "+-------+------------------------------------+\n",
      "\n",
      "None\n",
      "+-------+------------------+\n",
      "|summary|               age|\n",
      "+-------+------------------+\n",
      "|  count|            150000|\n",
      "|   mean|52.295206666666665|\n",
      "| stddev|14.771865863100352|\n",
      "|    min|                 0|\n",
      "|    max|               109|\n",
      "+-------+------------------+\n",
      "\n",
      "None\n",
      "+-------+------------------------------------+\n",
      "|summary|NumberOfTime30_59DaysPastDueNotWorse|\n",
      "+-------+------------------------------------+\n",
      "|  count|                              150000|\n",
      "|   mean|                  0.4210333333333333|\n",
      "| stddev|                   4.192781272018327|\n",
      "|    min|                                   0|\n",
      "|    max|                                  98|\n",
      "+-------+------------------------------------+\n",
      "\n",
      "None\n",
      "+-------+------------------+\n",
      "|summary|         DebtRatio|\n",
      "+-------+------------------+\n",
      "|  count|            150000|\n",
      "|   mean| 353.0050757638672|\n",
      "| stddev|2037.8185231443636|\n",
      "|    min|               0.0|\n",
      "|    max|          329664.0|\n",
      "+-------+------------------+\n",
      "\n",
      "None\n",
      "+-------+------------------+\n",
      "|summary|     MonthlyIncome|\n",
      "+-------+------------------+\n",
      "|  count|            150000|\n",
      "|   mean| 6670.221237392844|\n",
      "| stddev|14384.674215282083|\n",
      "|    min|                 0|\n",
      "|    max|                NA|\n",
      "+-------+------------------+\n",
      "\n",
      "None\n",
      "+-------+-------------------------------+\n",
      "|summary|NumberOfOpenCreditLinesAndLoans|\n",
      "+-------+-------------------------------+\n",
      "|  count|                         150000|\n",
      "|   mean|                        8.45276|\n",
      "| stddev|              5.145950989643292|\n",
      "|    min|                              0|\n",
      "|    max|                             58|\n",
      "+-------+-------------------------------+\n",
      "\n",
      "None\n",
      "+-------+-----------------------+\n",
      "|summary|NumberOfTimes90DaysLate|\n",
      "+-------+-----------------------+\n",
      "|  count|                 150000|\n",
      "|   mean|    0.26597333333333334|\n",
      "| stddev|      4.169303787594438|\n",
      "|    min|                      0|\n",
      "|    max|                     98|\n",
      "+-------+-----------------------+\n",
      "\n",
      "None\n",
      "+-------+----------------------------+\n",
      "|summary|NumberRealEstateLoansOrLines|\n",
      "+-------+----------------------------+\n",
      "|  count|                      150000|\n",
      "|   mean|                     1.01824|\n",
      "| stddev|          1.1297709848828545|\n",
      "|    min|                           0|\n",
      "|    max|                          54|\n",
      "+-------+----------------------------+\n",
      "\n",
      "None\n",
      "+-------+------------------------------------+\n",
      "|summary|NumberOfTime60_89DaysPastDueNotWorse|\n",
      "+-------+------------------------------------+\n",
      "|  count|                              150000|\n",
      "|   mean|                 0.24038666666666667|\n",
      "| stddev|                   4.155179420987195|\n",
      "|    min|                                   0|\n",
      "|    max|                                  98|\n",
      "+-------+------------------------------------+\n",
      "\n",
      "None\n",
      "+-------+------------------+\n",
      "|summary|NumberOfDependents|\n",
      "+-------+------------------+\n",
      "|  count|            150000|\n",
      "|   mean|0.7572222678605657|\n",
      "| stddev|1.1150860714871424|\n",
      "|    min|                 0|\n",
      "|    max|                NA|\n",
      "+-------+------------------+\n",
      "\n",
      "None\n"
     ]
    }
   ],
   "source": [
    "## Look at statics of every varible\n",
    "for col in df.columns:\n",
    "    print df.describe(col).show()"
   ]
  },
  {
   "cell_type": "markdown",
   "metadata": {},
   "source": [
    "<a id=\"null\"></a>\n",
    "### 4.b) Missing Value\n",
    "##### How many missing value in a particular column?"
   ]
  },
  {
   "cell_type": "code",
   "execution_count": 39,
   "metadata": {},
   "outputs": [
    {
     "data": {
      "text/plain": [
       "0"
      ]
     },
     "execution_count": 39,
     "metadata": {},
     "output_type": "execute_result"
    }
   ],
   "source": [
    "# The missing value count by variable can be obtained by using isNull() and count() functions\n",
    "\n",
    "df.where(df[\"MonthlyIncome\"].isNull()).count() # change the MonthlyIncome to the particular colnames you are examing.\n",
    "#df.where(df[\"MonthlyIncome\"].isNull()).show()"
   ]
  },
  {
   "cell_type": "markdown",
   "metadata": {},
   "source": [
    "##### How many missing value per column?"
   ]
  },
  {
   "cell_type": "code",
   "execution_count": 44,
   "metadata": {},
   "outputs": [
    {
     "name": "stdout",
     "output_type": "stream",
     "text": [
      "+-------+----------------+------------------------------------+---+------------------------------------+---------+-------------+-------------------------------+-----------------------+----------------------------+------------------------------------+------------------+\n",
      "|user_id|SeriousDlqin2yrs|RevolvingUtilizationOfUnsecuredLines|age|NumberOfTime30_59DaysPastDueNotWorse|DebtRatio|MonthlyIncome|NumberOfOpenCreditLinesAndLoans|NumberOfTimes90DaysLate|NumberRealEstateLoansOrLines|NumberOfTime60_89DaysPastDueNotWorse|NumberOfDependents|\n",
      "+-------+----------------+------------------------------------+---+------------------------------------+---------+-------------+-------------------------------+-----------------------+----------------------------+------------------------------------+------------------+\n",
      "|      0|               0|                                   0|  0|                                   0|        0|            0|                              0|                      0|                           0|                                   0|                 0|\n",
      "+-------+----------------+------------------------------------+---+------------------------------------+---------+-------------+-------------------------------+-----------------------+----------------------------+------------------------------------+------------------+\n",
      "\n"
     ]
    }
   ],
   "source": [
    "### FUNCTION\n",
    "from pyspark.sql.functions import col, sum\n",
    "\n",
    "def count_null(col_name):\n",
    "  return sum(col(col_name).isNull().cast('integer')).alias(col_name)\n",
    "\n",
    "# Build up a list of column expressions, one per column.\n",
    "#\n",
    "# This could be done in one line with a Python list comprehension, but we're keeping\n",
    "# it simple for those who don't know Python very well.\n",
    "exprs = []\n",
    "for col_name in df.columns:\n",
    "  exprs.append(count_null(col_name))\n",
    "\n",
    "# Run the aggregation. The *exprs converts the list of expressions into\n",
    "# variable function arguments.\n",
    "df.agg(*exprs).show()"
   ]
  },
  {
   "cell_type": "markdown",
   "metadata": {},
   "source": [
    "##### Examine if there is relationship in between missing values in columns"
   ]
  },
  {
   "cell_type": "code",
   "execution_count": 45,
   "metadata": {},
   "outputs": [
    {
     "data": {
      "text/plain": [
       "0"
      ]
     },
     "execution_count": 45,
     "metadata": {},
     "output_type": "execute_result"
    }
   ],
   "source": [
    "# to check whether certian columns have null.\n",
    "df.filter(df[\"age\"].isNull()|\n",
    "         df[\"SeriousDlqin2yrs\"].isNull()|\n",
    "         df[\"NumberOfDependents\"].isNull()).count()"
   ]
  },
  {
   "cell_type": "markdown",
   "metadata": {},
   "source": [
    "<a id = \"NA\"></a>\n",
    "### 4.c) \"NA\"s Count\n",
    "\"NA\" is string that insteand of NULL has been used in certain dataset. The code can also be replaced by another string.  \n",
    "##### How many NA in a particular column?"
   ]
  },
  {
   "cell_type": "code",
   "execution_count": 46,
   "metadata": {},
   "outputs": [
    {
     "name": "stdout",
     "output_type": "stream",
     "text": [
      "29731\n",
      "3924\n"
     ]
    }
   ],
   "source": [
    "print df.filter(df['MonthlyIncome'] == \"NA\").count()\n",
    "print df.filter(df['NumberOfDependents'] == \"NA\").count()"
   ]
  },
  {
   "cell_type": "markdown",
   "metadata": {},
   "source": [
    "##### Examine if there is relationship in between NAs in columns"
   ]
  },
  {
   "cell_type": "code",
   "execution_count": 47,
   "metadata": {},
   "outputs": [
    {
     "name": "stdout",
     "output_type": "stream",
     "text": [
      "+-------+----------------+------------------------------------+---+------------------------------------+---------+-------------+-------------------------------+-----------------------+----------------------------+------------------------------------+------------------+\n",
      "|user_id|SeriousDlqin2yrs|RevolvingUtilizationOfUnsecuredLines|age|NumberOfTime30_59DaysPastDueNotWorse|DebtRatio|MonthlyIncome|NumberOfOpenCreditLinesAndLoans|NumberOfTimes90DaysLate|NumberRealEstateLoansOrLines|NumberOfTime60_89DaysPastDueNotWorse|NumberOfDependents|\n",
      "+-------+----------------+------------------------------------+---+------------------------------------+---------+-------------+-------------------------------+-----------------------+----------------------------+------------------------------------+------------------+\n",
      "|  10008|               0|                         0.116950644| 27|                                   0|     46.0|           NA|                              2|                      0|                           0|                                   0|                NA|\n",
      "|  10096|               0|                         0.542242704| 48|                                   2|     10.0|           NA|                              2|                      0|                           0|                                   0|                NA|\n",
      "+-------+----------------+------------------------------------+---+------------------------------------+---------+-------------+-------------------------------+-----------------------+----------------------------+------------------------------------+------------------+\n",
      "only showing top 2 rows\n",
      "\n"
     ]
    }
   ],
   "source": [
    "## To examine if NA's relationship between colnames.\n",
    "df.where(\n",
    "    (col('MonthlyIncome') == 'NA') & \n",
    "    (col('NumberOfDependents') == 'NA')).show(2) "
   ]
  },
  {
   "cell_type": "markdown",
   "metadata": {},
   "source": [
    "<a id = \"duplicates\"></a>\n",
    "### 4.d) Unique Record Count\n",
    "Count the number of duplicates records in the dataframe\n",
    "##### How many exact unique rows in the dataframd? "
   ]
  },
  {
   "cell_type": "code",
   "execution_count": 48,
   "metadata": {},
   "outputs": [
    {
     "data": {
      "text/plain": [
       "DataFrame[user_id: int, SeriousDlqin2yrs: int, RevolvingUtilizationOfUnsecuredLines: double, age: int, NumberOfTime30_59DaysPastDueNotWorse: int, DebtRatio: double, MonthlyIncome: string, NumberOfOpenCreditLinesAndLoans: int, NumberOfTimes90DaysLate: int, NumberRealEstateLoansOrLines: int, NumberOfTime60_89DaysPastDueNotWorse: int, NumberOfDependents: string]"
      ]
     },
     "execution_count": 48,
     "metadata": {},
     "output_type": "execute_result"
    }
   ],
   "source": [
    "# Count the unique rows.\n",
    "df.distinct().count()\n",
    "# Then you can drop the duplicated rows\n",
    "df.dropDuplicates() "
   ]
  },
  {
   "cell_type": "markdown",
   "metadata": {},
   "source": [
    "##### How many duplicated records in a particular column?"
   ]
  },
  {
   "cell_type": "code",
   "execution_count": 49,
   "metadata": {},
   "outputs": [
    {
     "data": {
      "text/plain": [
       "150000"
      ]
     },
     "execution_count": 49,
     "metadata": {},
     "output_type": "execute_result"
    }
   ],
   "source": [
    "# Count the unique records within the column called \"user_id\".\n",
    "df.select(['user_id', 'age']).distinct().count()\n",
    "#df.dropDuplicates(['user_id','age'])"
   ]
  },
  {
   "cell_type": "markdown",
   "metadata": {},
   "source": [
    "<a id=\"data cleaning\"></a>\n",
    "## 5. Data Cleaning\n",
    "In this section, we will introduce the missing value treatment, and splitting a column of string into seperate columns\n",
    "<a id=\"treatment\"></a>\n",
    "### 5.a) Null Drop / Fill "
   ]
  },
  {
   "cell_type": "code",
   "execution_count": 50,
   "metadata": {
    "collapsed": true
   },
   "outputs": [],
   "source": [
    "## run the following two functions to create function to convert CERTAIN value \n",
    "\n",
    "# this is to convert blank to null (None) in Python\n",
    "def blank_as_null(x):\n",
    "    return when(col(x) != \"\", col(x)).otherwise(None)\n",
    "\n",
    "# this is to convert \"NA\" to null (None) in Python\n",
    "def NA_as_null(colname):\n",
    "    return when(col(colname) != \"NA\", col(colname)).otherwise(None)"
   ]
  },
  {
   "cell_type": "code",
   "execution_count": 51,
   "metadata": {},
   "outputs": [
    {
     "data": {
      "text/plain": [
       "146076"
      ]
     },
     "execution_count": 51,
     "metadata": {},
     "output_type": "execute_result"
    }
   ],
   "source": [
    "## convert \"NA\" to null (None) and rename it to dataframe dfNADropped\n",
    "dfNADropped = df.withColumn(\"NumberOfDependents\", NA_as_null(\"NumberOfDependents\"))\n",
    "\n",
    "## Drop the missing value rows where NumberOfDependents is missing\n",
    "dfNADropped.na.drop().count()"
   ]
  },
  {
   "cell_type": "code",
   "execution_count": 52,
   "metadata": {},
   "outputs": [
    {
     "data": {
      "text/plain": [
       "150000"
      ]
     },
     "execution_count": 52,
     "metadata": {},
     "output_type": "execute_result"
    }
   ],
   "source": [
    "## convert \"NA\" to null (None) and rename it to dataframe dfNADropped\n",
    "dfNAFilled = df.withColumn(\"NumberOfDependents\", NA_as_null(\"NumberOfDependents\"))\n",
    "\n",
    "## Fill the missing value record by 0 in column NumberOfDependents\n",
    "dfNAFilled.na.fill({\"NumberOfDependents\": 0}).count()"
   ]
  },
  {
   "cell_type": "markdown",
   "metadata": {},
   "source": [
    "<a id='time_table'></a>\n",
    "### 5.b) Time Format"
   ]
  },
  {
   "cell_type": "code",
   "execution_count": 53,
   "metadata": {
    "collapsed": true
   },
   "outputs": [],
   "source": [
    "##  Convert Common Log time format into a Python datetime object FUNCTION\n",
    "month_map = {\n",
    "  'Jan': 1, 'Feb': 2, 'Mar':3, 'Apr':4, 'May':5, 'Jun':6, 'Jul':7,\n",
    "  'Aug':8,  'Sep': 9, 'Oct':10, 'Nov': 11, 'Dec': 12\n",
    "}\n",
    "\n",
    "def parse_clf_time(s):\n",
    "    \"\"\" Convert Common Log time format into a Python datetime object\n",
    "    Args:\n",
    "        s (str): date and time in Apache time format [dd/mmm/yyyy:hh:mm:ss (+/-)zzzz]\n",
    "    Returns:\n",
    "        a string suitable for passing to CAST('timestamp')\n",
    "    \"\"\"\n",
    "    # NOTE: We're ignoring time zone here. In a production application, you'd want to handle that.\n",
    "    return \"{0:04d}-{1:02d}-{2:02d} {3:02d}:{4:02d}:{5:02d}\".format(\n",
    "      int(s[7:11]),\n",
    "      month_map[s[3:6]],\n",
    "      int(s[0:2]),\n",
    "      int(s[12:14]),\n",
    "      int(s[15:17]),\n",
    "      int(s[18:20])\n",
    "    )\n",
    "\n",
    "u_parse_time = udf(parse_clf_time)"
   ]
  },
  {
   "cell_type": "code",
   "execution_count": 54,
   "metadata": {
    "collapsed": true
   },
   "outputs": [],
   "source": [
    "# To use it, change the \"\" column to your time date columne\n",
    "\n",
    "#df.select('*', u_parse_time(df['timestamp']).cast('timestamp').alias('time'))"
   ]
  },
  {
   "cell_type": "markdown",
   "metadata": {},
   "source": [
    "<a id='change_schema'></a>\n",
    "### 5.c) Change Float to String"
   ]
  },
  {
   "cell_type": "code",
   "execution_count": 55,
   "metadata": {},
   "outputs": [
    {
     "name": "stdout",
     "output_type": "stream",
     "text": [
      "root\n",
      " |-- user_id: integer (nullable = true)\n",
      " |-- SeriousDlqin2yrs: integer (nullable = true)\n",
      " |-- RevolvingUtilizationOfUnsecuredLines: double (nullable = true)\n",
      " |-- age: integer (nullable = true)\n",
      " |-- NumberOfTime30_59DaysPastDueNotWorse: integer (nullable = true)\n",
      " |-- DebtRatio: double (nullable = true)\n",
      " |-- NumberOfOpenCreditLinesAndLoans: integer (nullable = true)\n",
      " |-- NumberOfTimes90DaysLate: integer (nullable = true)\n",
      " |-- NumberRealEstateLoansOrLines: integer (nullable = true)\n",
      " |-- NumberOfTime60_89DaysPastDueNotWorse: integer (nullable = true)\n",
      " |-- NumberOfDependents: string (nullable = true)\n",
      " |-- MonthlyIncome_new: float (nullable = true)\n",
      "\n"
     ]
    }
   ],
   "source": [
    "# Create a new table that add a new column of changing the data type of a columne and drop the original column\n",
    "\n",
    "convert_numbers_to_string = df.withColumn(\"MonthlyIncome_new\", df[\"MonthlyIncome\"].cast('float')).drop(\"MonthlyIncome\")\n",
    "convert_numbers_to_string.printSchema()"
   ]
  },
  {
   "cell_type": "markdown",
   "metadata": {},
   "source": [
    "<a id=\"string_split\"></a>\n",
    "## 5.d) String Structure"
   ]
  },
  {
   "cell_type": "code",
   "execution_count": 56,
   "metadata": {},
   "outputs": [
    {
     "name": "stdout",
     "output_type": "stream",
     "text": [
      "+----+\n",
      "|test|\n",
      "+----+\n",
      "|9120|\n",
      "|2600|\n",
      "|3042|\n",
      "+----+\n",
      "only showing top 3 rows\n",
      "\n"
     ]
    }
   ],
   "source": [
    "## The first four characters of the string in a column and now rename it test. \n",
    "## Note that this only works when the columns is in STRING format.  Please see 5.c) step.\n",
    "convert_numbers_to_string.select(convert_numbers_to_string[\"MonthlyIncome_new\"].substr(0, 4).alias('test')).show(3)"
   ]
  },
  {
   "cell_type": "code",
   "execution_count": 57,
   "metadata": {},
   "outputs": [
    {
     "data": {
      "text/plain": [
       "[Row(test=[u'', u'.', u'']),\n",
       " Row(test=[u'', u'.', u'']),\n",
       " Row(test=[u'', u'.', u'']),\n",
       " Row(test=[u'', u'.', u'']),\n",
       " Row(test=[u'', u'.', u'']),\n",
       " Row(test=[u'', u'.', u'']),\n",
       " Row(test=None),\n",
       " Row(test=[u'', u'.', u'']),\n",
       " Row(test=None),\n",
       " Row(test=[u'', u'.', u'']),\n",
       " Row(test=[u'', u'.', u'']),\n",
       " Row(test=[u'', u'.', u'']),\n",
       " Row(test=[u'', u'.', u'']),\n",
       " Row(test=[u'', u'.', u'']),\n",
       " Row(test=[u'', u'.', u'']),\n",
       " Row(test=[u'', u'.', u'']),\n",
       " Row(test=None),\n",
       " Row(test=[u'', u'.', u'']),\n",
       " Row(test=[u'', u'.', u'']),\n",
       " Row(test=[u'', u'.', u'']),\n",
       " Row(test=[u'', u'.', u'']),\n",
       " Row(test=[u'', u'.', u'']),\n",
       " Row(test=[u'', u'.', u'']),\n",
       " Row(test=[u'', u'.', u'']),\n",
       " Row(test=[u'', u'.', u'']),\n",
       " Row(test=[u'', u'.', u'']),\n",
       " Row(test=[u'', u'.', u'']),\n",
       " Row(test=[u'', u'.', u'']),\n",
       " Row(test=[u'', u'.', u'']),\n",
       " Row(test=[u'', u'.', u'']),\n",
       " Row(test=[u'', u'.', u'']),\n",
       " Row(test=[u'', u'.', u'']),\n",
       " Row(test=None),\n",
       " Row(test=[u'', u'.', u'']),\n",
       " Row(test=[u'', u'.', u'']),\n",
       " Row(test=[u'', u'.', u'']),\n",
       " Row(test=[u'', u'.', u'']),\n",
       " Row(test=[u'', u'.', u'']),\n",
       " Row(test=[u'', u'.', u'']),\n",
       " Row(test=[u'', u'.', u'']),\n",
       " Row(test=[u'', u'.', u'']),\n",
       " Row(test=None),\n",
       " Row(test=[u'', u'.', u'']),\n",
       " Row(test=[u'', u'.', u'']),\n",
       " Row(test=[u'', u'.', u'']),\n",
       " Row(test=[u'', u'.', u'']),\n",
       " Row(test=[u'', u'.', u'']),\n",
       " Row(test=[u'', u'.', u'']),\n",
       " Row(test=[u'', u'.', u'']),\n",
       " Row(test=[u'', u'.', u'']),\n",
       " Row(test=[u'', u'.', u'']),\n",
       " Row(test=[u'', u'.', u'']),\n",
       " Row(test=None),\n",
       " Row(test=[u'', u'.', u'']),\n",
       " Row(test=[u'', u'.', u'']),\n",
       " Row(test=[u'', u'.', u'']),\n",
       " Row(test=[u'', u'.', u'']),\n",
       " Row(test=[u'', u'.', u'']),\n",
       " Row(test=None),\n",
       " Row(test=[u'', u'.', u'']),\n",
       " Row(test=[u'', u'.', u'']),\n",
       " Row(test=[u'', u'.', u'']),\n",
       " Row(test=None),\n",
       " Row(test=[u'', u'.', u'']),\n",
       " Row(test=[u'', u'.', u'']),\n",
       " Row(test=[u'', u'.', u'']),\n",
       " Row(test=[u'', u'.', u'']),\n",
       " Row(test=[u'', u'.', u'']),\n",
       " Row(test=[u'', u'.', u'']),\n",
       " Row(test=[u'', u'.', u'']),\n",
       " Row(test=[u'', u'.', u'']),\n",
       " Row(test=None),\n",
       " Row(test=[u'', u'.', u'']),\n",
       " Row(test=[u'', u'.', u'']),\n",
       " Row(test=[u'', u'.', u'']),\n",
       " Row(test=[u'', u'.', u'']),\n",
       " Row(test=[u'', u'.', u'']),\n",
       " Row(test=[u'', u'.', u'']),\n",
       " Row(test=[u'', u'.', u'']),\n",
       " Row(test=[u'', u'.', u'']),\n",
       " Row(test=[u'', u'.', u'']),\n",
       " Row(test=[u'', u'.', u'']),\n",
       " Row(test=[u'', u'.', u'']),\n",
       " Row(test=[u'', u'.', u'']),\n",
       " Row(test=[u'', u'.', u'']),\n",
       " Row(test=[u'', u'.', u'']),\n",
       " Row(test=None),\n",
       " Row(test=[u'', u'.', u'']),\n",
       " Row(test=[u'', u'.', u'']),\n",
       " Row(test=[u'', u'.', u'']),\n",
       " Row(test=[u'', u'.', u'']),\n",
       " Row(test=[u'', u'.', u'']),\n",
       " Row(test=None),\n",
       " Row(test=[u'', u'.', u'']),\n",
       " Row(test=[u'', u'.', u'']),\n",
       " Row(test=[u'', u'.', u'']),\n",
       " Row(test=None),\n",
       " Row(test=[u'', u'.', u'']),\n",
       " Row(test=[u'', u'.', u'']),\n",
       " Row(test=[u'', u'.', u'']),\n",
       " Row(test=None),\n",
       " Row(test=[u'', u'.', u'']),\n",
       " Row(test=[u'', u'.', u'']),\n",
       " Row(test=[u'', u'.', u'']),\n",
       " Row(test=[u'', u'.', u'']),\n",
       " Row(test=[u'', u'.', u'']),\n",
       " Row(test=[u'', u'.', u'']),\n",
       " Row(test=[u'', u'.', u'']),\n",
       " Row(test=[u'', u'.', u'']),\n",
       " Row(test=None),\n",
       " Row(test=[u'', u'.', u'']),\n",
       " Row(test=[u'', u'.', u'']),\n",
       " Row(test=[u'', u'.', u'']),\n",
       " Row(test=[u'', u'.', u'']),\n",
       " Row(test=[u'', u'.', u'']),\n",
       " Row(test=None),\n",
       " Row(test=[u'', u'.', u'']),\n",
       " Row(test=[u'', u'.', u'']),\n",
       " Row(test=None),\n",
       " Row(test=[u'', u'.', u'']),\n",
       " Row(test=[u'', u'.', u'']),\n",
       " Row(test=[u'', u'.', u'']),\n",
       " Row(test=[u'', u'.', u'']),\n",
       " Row(test=[u'', u'.', u'']),\n",
       " Row(test=None),\n",
       " Row(test=[u'', u'.', u'']),\n",
       " Row(test=[u'', u'.', u'']),\n",
       " Row(test=[u'', u'.', u'']),\n",
       " Row(test=[u'', u'.', u'']),\n",
       " Row(test=[u'', u'.', u'']),\n",
       " Row(test=None),\n",
       " Row(test=[u'', u'.', u'']),\n",
       " Row(test=[u'', u'.', u'']),\n",
       " Row(test=[u'', u'.', u'']),\n",
       " Row(test=[u'', u'.', u'']),\n",
       " Row(test=[u'', u'.', u'']),\n",
       " Row(test=[u'', u'.', u'']),\n",
       " Row(test=[u'', u'.', u'']),\n",
       " Row(test=[u'', u'.', u'']),\n",
       " Row(test=[u'', u'.', u'']),\n",
       " Row(test=[u'', u'.', u'']),\n",
       " Row(test=None),\n",
       " Row(test=[u'', u'.', u'']),\n",
       " Row(test=None),\n",
       " Row(test=[u'', u'.', u'']),\n",
       " Row(test=[u'', u'.', u'']),\n",
       " Row(test=[u'', u'.', u'']),\n",
       " Row(test=[u'', u'.', u'']),\n",
       " Row(test=[u'', u'.', u'']),\n",
       " Row(test=[u'', u'.', u'']),\n",
       " Row(test=[u'', u'.', u'']),\n",
       " Row(test=[u'', u'.', u'']),\n",
       " Row(test=[u'', u'.', u'']),\n",
       " Row(test=[u'', u'.', u'']),\n",
       " Row(test=[u'', u'.', u'']),\n",
       " Row(test=[u'', u'.', u'']),\n",
       " Row(test=[u'', u'.', u'']),\n",
       " Row(test=[u'', u'.', u'']),\n",
       " Row(test=[u'', u'.', u'']),\n",
       " Row(test=None),\n",
       " Row(test=[u'', u'.', u'']),\n",
       " Row(test=None),\n",
       " Row(test=[u'', u'.', u'']),\n",
       " Row(test=[u'', u'.', u'']),\n",
       " Row(test=[u'', u'.', u'']),\n",
       " Row(test=[u'', u'.', u'']),\n",
       " Row(test=None),\n",
       " Row(test=[u'', u'.', u'']),\n",
       " Row(test=[u'', u'.', u'']),\n",
       " Row(test=[u'', u'.', u'']),\n",
       " Row(test=[u'', u'.', u'']),\n",
       " Row(test=None),\n",
       " Row(test=[u'', u'.', u'']),\n",
       " Row(test=[u'', u'.', u'']),\n",
       " Row(test=[u'', u'.', u'']),\n",
       " Row(test=[u'', u'.', u'']),\n",
       " Row(test=[u'', u'.', u'']),\n",
       " Row(test=[u'', u'.', u'']),\n",
       " Row(test=[u'', u'.', u'']),\n",
       " Row(test=None),\n",
       " Row(test=[u'', u'.', u'']),\n",
       " Row(test=None),\n",
       " Row(test=[u'', u'.', u'']),\n",
       " Row(test=None),\n",
       " Row(test=[u'', u'.', u'']),\n",
       " Row(test=[u'', u'.', u'']),\n",
       " Row(test=[u'', u'.', u'']),\n",
       " Row(test=None),\n",
       " Row(test=[u'', u'.', u'']),\n",
       " Row(test=[u'', u'.', u'']),\n",
       " Row(test=[u'', u'.', u'']),\n",
       " Row(test=[u'', u'.', u'']),\n",
       " Row(test=None),\n",
       " Row(test=[u'', u'.', u'']),\n",
       " Row(test=[u'', u'.', u'']),\n",
       " Row(test=[u'', u'.', u'']),\n",
       " Row(test=[u'', u'.', u'']),\n",
       " Row(test=[u'', u'.', u'']),\n",
       " Row(test=None),\n",
       " Row(test=[u'', u'.', u'']),\n",
       " Row(test=[u'', u'.', u'']),\n",
       " Row(test=[u'', u'.', u'']),\n",
       " Row(test=[u'', u'.', u'']),\n",
       " Row(test=[u'', u'.', u'']),\n",
       " Row(test=[u'', u'.', u'']),\n",
       " Row(test=[u'', u'.', u'']),\n",
       " Row(test=[u'', u'.', u'']),\n",
       " Row(test=None),\n",
       " Row(test=[u'', u'.', u'']),\n",
       " Row(test=[u'', u'.', u'']),\n",
       " Row(test=None),\n",
       " Row(test=[u'', u'.', u'']),\n",
       " Row(test=[u'', u'.', u'']),\n",
       " Row(test=[u'', u'.', u'']),\n",
       " Row(test=None),\n",
       " Row(test=None),\n",
       " Row(test=[u'', u'.', u'']),\n",
       " Row(test=[u'', u'.', u'']),\n",
       " Row(test=[u'', u'.', u'']),\n",
       " Row(test=[u'', u'.', u'']),\n",
       " Row(test=[u'', u'.', u'']),\n",
       " Row(test=[u'', u'.', u'']),\n",
       " Row(test=[u'', u'.', u'']),\n",
       " Row(test=[u'', u'.', u'']),\n",
       " Row(test=[u'', u'.', u'']),\n",
       " Row(test=[u'', u'.', u'']),\n",
       " Row(test=[u'', u'.', u'']),\n",
       " Row(test=[u'', u'.', u'']),\n",
       " Row(test=[u'', u'.', u'']),\n",
       " Row(test=[u'', u'.', u'']),\n",
       " Row(test=[u'', u'.', u'']),\n",
       " Row(test=[u'', u'.', u'']),\n",
       " Row(test=[u'', u'.', u'']),\n",
       " Row(test=[u'', u'.', u'']),\n",
       " Row(test=[u'', u'.', u'']),\n",
       " Row(test=None),\n",
       " Row(test=[u'', u'.', u'']),\n",
       " Row(test=[u'', u'.', u'']),\n",
       " Row(test=None),\n",
       " Row(test=[u'', u'.', u'']),\n",
       " Row(test=[u'', u'.', u'']),\n",
       " Row(test=[u'', u'.', u'']),\n",
       " Row(test=None),\n",
       " Row(test=[u'', u'.', u'']),\n",
       " Row(test=[u'', u'.', u'']),\n",
       " Row(test=[u'', u'.', u'']),\n",
       " Row(test=[u'', u'.', u'']),\n",
       " Row(test=[u'', u'.', u'']),\n",
       " Row(test=[u'', u'.', u'']),\n",
       " Row(test=[u'', u'.', u'']),\n",
       " Row(test=[u'', u'.', u'']),\n",
       " Row(test=[u'', u'.', u'']),\n",
       " Row(test=[u'', u'.', u'']),\n",
       " Row(test=[u'', u'.', u'']),\n",
       " Row(test=[u'', u'.', u'']),\n",
       " Row(test=[u'', u'.', u'']),\n",
       " Row(test=[u'', u'.', u'']),\n",
       " Row(test=[u'', u'.', u'']),\n",
       " Row(test=[u'', u'.', u'']),\n",
       " Row(test=None),\n",
       " Row(test=[u'', u'.', u'']),\n",
       " Row(test=None),\n",
       " Row(test=[u'', u'.', u'']),\n",
       " Row(test=None),\n",
       " Row(test=[u'', u'.', u'']),\n",
       " Row(test=[u'', u'.', u'']),\n",
       " Row(test=[u'', u'.', u'']),\n",
       " Row(test=[u'', u'.', u'']),\n",
       " Row(test=[u'', u'.', u'']),\n",
       " Row(test=[u'', u'.', u'']),\n",
       " Row(test=[u'', u'.', u'']),\n",
       " Row(test=[u'', u'.', u'']),\n",
       " Row(test=[u'', u'.', u'']),\n",
       " Row(test=[u'', u'.', u'']),\n",
       " Row(test=[u'', u'.', u'']),\n",
       " Row(test=[u'', u'.', u'']),\n",
       " Row(test=[u'', u'.', u'']),\n",
       " Row(test=[u'', u'.', u'']),\n",
       " Row(test=[u'', u'.', u'']),\n",
       " Row(test=[u'', u'.', u'']),\n",
       " Row(test=[u'', u'.', u'']),\n",
       " Row(test=[u'', u'.', u'']),\n",
       " Row(test=[u'', u'.', u'']),\n",
       " Row(test=[u'', u'.', u'']),\n",
       " Row(test=None),\n",
       " Row(test=[u'', u'.', u'']),\n",
       " Row(test=[u'', u'.', u'']),\n",
       " Row(test=[u'', u'.', u'']),\n",
       " Row(test=[u'', u'.', u'']),\n",
       " Row(test=[u'', u'.', u'']),\n",
       " Row(test=[u'', u'.', u'']),\n",
       " Row(test=None),\n",
       " Row(test=[u'', u'.', u'']),\n",
       " Row(test=[u'', u'.', u'']),\n",
       " Row(test=[u'', u'.', u'']),\n",
       " Row(test=[u'', u'.', u'']),\n",
       " Row(test=[u'', u'.', u'']),\n",
       " Row(test=[u'', u'.', u'']),\n",
       " Row(test=[u'', u'.', u'']),\n",
       " Row(test=[u'', u'.', u'']),\n",
       " Row(test=[u'', u'.', u'']),\n",
       " Row(test=[u'', u'.', u'']),\n",
       " Row(test=[u'', u'.', u'']),\n",
       " Row(test=[u'', u'.', u'']),\n",
       " Row(test=[u'', u'.', u'']),\n",
       " Row(test=[u'', u'.', u'']),\n",
       " Row(test=[u'', u'.', u'']),\n",
       " Row(test=[u'', u'.', u'']),\n",
       " Row(test=[u'', u'.', u'']),\n",
       " Row(test=[u'', u'.', u'']),\n",
       " Row(test=[u'', u'.', u'']),\n",
       " Row(test=[u'', u'.', u'']),\n",
       " Row(test=[u'', u'.', u'']),\n",
       " Row(test=[u'', u'.', u'']),\n",
       " Row(test=[u'', u'.', u'']),\n",
       " Row(test=[u'', u'.', u'']),\n",
       " Row(test=[u'', u'.', u'']),\n",
       " Row(test=[u'', u'.', u'']),\n",
       " Row(test=[u'', u'.', u'']),\n",
       " Row(test=[u'', u'.', u'']),\n",
       " Row(test=None),\n",
       " Row(test=None),\n",
       " Row(test=[u'', u'.', u'']),\n",
       " Row(test=[u'', u'.', u'']),\n",
       " Row(test=[u'', u'.', u'']),\n",
       " Row(test=[u'', u'.', u'']),\n",
       " Row(test=[u'', u'.', u'']),\n",
       " Row(test=[u'', u'.', u'']),\n",
       " Row(test=[u'', u'.', u'']),\n",
       " Row(test=[u'', u'.', u'']),\n",
       " Row(test=[u'', u'.', u'']),\n",
       " Row(test=None),\n",
       " Row(test=[u'', u'.', u'']),\n",
       " Row(test=[u'', u'.', u'']),\n",
       " Row(test=[u'', u'.', u'']),\n",
       " Row(test=[u'', u'.', u'']),\n",
       " Row(test=[u'', u'.', u'']),\n",
       " Row(test=[u'', u'.', u'']),\n",
       " Row(test=[u'', u'.', u'']),\n",
       " Row(test=[u'', u'.', u'']),\n",
       " Row(test=[u'', u'.', u'']),\n",
       " Row(test=[u'', u'.', u'']),\n",
       " Row(test=[u'', u'.', u'']),\n",
       " Row(test=[u'', u'.', u'']),\n",
       " Row(test=[u'', u'.', u'']),\n",
       " Row(test=[u'', u'.', u'']),\n",
       " Row(test=None),\n",
       " Row(test=None),\n",
       " Row(test=[u'', u'.', u'']),\n",
       " Row(test=[u'', u'.', u'']),\n",
       " Row(test=[u'', u'.', u'']),\n",
       " Row(test=None),\n",
       " Row(test=[u'', u'.', u'']),\n",
       " Row(test=None),\n",
       " Row(test=None),\n",
       " Row(test=[u'', u'.', u'']),\n",
       " Row(test=None),\n",
       " Row(test=[u'', u'.', u'']),\n",
       " Row(test=None),\n",
       " Row(test=[u'', u'.', u'']),\n",
       " Row(test=[u'', u'.', u'']),\n",
       " Row(test=[u'', u'.', u'']),\n",
       " Row(test=[u'', u'.', u'']),\n",
       " Row(test=[u'', u'.', u'']),\n",
       " Row(test=None),\n",
       " Row(test=[u'', u'.', u'']),\n",
       " Row(test=[u'', u'.', u'']),\n",
       " Row(test=None),\n",
       " Row(test=None),\n",
       " Row(test=[u'', u'.', u'']),\n",
       " Row(test=[u'', u'.', u'']),\n",
       " Row(test=[u'', u'.', u'']),\n",
       " Row(test=None),\n",
       " Row(test=[u'', u'.', u'']),\n",
       " Row(test=[u'', u'.', u'']),\n",
       " Row(test=[u'', u'.', u'']),\n",
       " Row(test=[u'', u'.', u'']),\n",
       " Row(test=[u'', u'.', u'']),\n",
       " Row(test=[u'', u'.', u'']),\n",
       " Row(test=[u'', u'.', u'']),\n",
       " Row(test=[u'', u'.', u'']),\n",
       " Row(test=None),\n",
       " Row(test=None),\n",
       " Row(test=[u'', u'.', u'']),\n",
       " Row(test=[u'', u'.', u'']),\n",
       " Row(test=[u'', u'.', u'']),\n",
       " Row(test=None),\n",
       " Row(test=None),\n",
       " Row(test=[u'', u'.', u'']),\n",
       " Row(test=[u'', u'.', u'']),\n",
       " Row(test=None),\n",
       " Row(test=[u'', u'.', u'']),\n",
       " Row(test=[u'', u'.', u'']),\n",
       " Row(test=[u'', u'.', u'']),\n",
       " Row(test=[u'', u'.', u'']),\n",
       " Row(test=None),\n",
       " Row(test=[u'', u'.', u'']),\n",
       " Row(test=[u'', u'.', u'']),\n",
       " Row(test=None),\n",
       " Row(test=[u'', u'.', u'']),\n",
       " Row(test=[u'', u'.', u'']),\n",
       " Row(test=[u'', u'.', u'']),\n",
       " Row(test=[u'', u'.', u'']),\n",
       " Row(test=[u'', u'.', u'']),\n",
       " Row(test=[u'', u'.', u'']),\n",
       " Row(test=[u'', u'.', u'']),\n",
       " Row(test=[u'', u'.', u'']),\n",
       " Row(test=[u'', u'.', u'']),\n",
       " Row(test=[u'', u'.', u'']),\n",
       " Row(test=[u'', u'.', u'']),\n",
       " Row(test=[u'', u'.', u'']),\n",
       " Row(test=[u'', u'.', u'']),\n",
       " Row(test=None),\n",
       " Row(test=None),\n",
       " Row(test=[u'', u'.', u'']),\n",
       " Row(test=[u'', u'.', u'']),\n",
       " Row(test=[u'', u'.', u'']),\n",
       " Row(test=[u'', u'.', u'']),\n",
       " Row(test=[u'', u'.', u'']),\n",
       " Row(test=None),\n",
       " Row(test=[u'', u'.', u'']),\n",
       " Row(test=[u'', u'.', u'']),\n",
       " Row(test=[u'', u'.', u'']),\n",
       " Row(test=[u'', u'.', u'']),\n",
       " Row(test=[u'', u'.', u'']),\n",
       " Row(test=[u'', u'.', u'']),\n",
       " Row(test=None),\n",
       " Row(test=[u'', u'.', u'']),\n",
       " Row(test=[u'', u'.', u'']),\n",
       " Row(test=[u'', u'.', u'']),\n",
       " Row(test=[u'', u'.', u'']),\n",
       " Row(test=[u'', u'.', u'']),\n",
       " Row(test=[u'', u'.', u'']),\n",
       " Row(test=[u'', u'.', u'']),\n",
       " Row(test=[u'', u'.', u'']),\n",
       " Row(test=[u'', u'.', u'']),\n",
       " Row(test=None),\n",
       " Row(test=None),\n",
       " Row(test=[u'', u'.', u'']),\n",
       " Row(test=[u'', u'.', u'']),\n",
       " Row(test=None),\n",
       " Row(test=None),\n",
       " Row(test=[u'', u'.', u'']),\n",
       " Row(test=[u'', u'.', u'']),\n",
       " Row(test=[u'', u'.', u'']),\n",
       " Row(test=[u'', u'.', u'']),\n",
       " Row(test=[u'', u'.', u'']),\n",
       " Row(test=[u'', u'.', u'']),\n",
       " Row(test=[u'', u'.', u'']),\n",
       " Row(test=[u'', u'.', u'']),\n",
       " Row(test=[u'', u'.', u'']),\n",
       " Row(test=None),\n",
       " Row(test=[u'', u'.', u'']),\n",
       " Row(test=[u'', u'.', u'']),\n",
       " Row(test=[u'', u'.', u'']),\n",
       " Row(test=[u'', u'.', u'']),\n",
       " Row(test=[u'', u'.', u'']),\n",
       " Row(test=[u'', u'.', u'']),\n",
       " Row(test=[u'', u'.', u'']),\n",
       " Row(test=None),\n",
       " Row(test=[u'', u'.', u'']),\n",
       " Row(test=[u'', u'.', u'']),\n",
       " Row(test=[u'', u'.', u'']),\n",
       " Row(test=[u'', u'.', u'']),\n",
       " Row(test=[u'', u'.', u'']),\n",
       " Row(test=[u'', u'.', u'']),\n",
       " Row(test=[u'', u'.', u'']),\n",
       " Row(test=[u'', u'.', u'']),\n",
       " Row(test=[u'', u'.', u'']),\n",
       " Row(test=[u'', u'.', u'']),\n",
       " Row(test=[u'', u'.', u'']),\n",
       " Row(test=[u'', u'.', u'']),\n",
       " Row(test=[u'', u'.', u'']),\n",
       " Row(test=[u'', u'.', u'']),\n",
       " Row(test=[u'', u'.', u'']),\n",
       " Row(test=[u'', u'.', u'']),\n",
       " Row(test=None),\n",
       " Row(test=[u'', u'.', u'']),\n",
       " Row(test=[u'', u'.', u'']),\n",
       " Row(test=[u'', u'.', u'']),\n",
       " Row(test=[u'', u'.', u'']),\n",
       " Row(test=[u'', u'.', u'']),\n",
       " Row(test=[u'', u'.', u'']),\n",
       " Row(test=[u'', u'.', u'']),\n",
       " Row(test=[u'', u'.', u'']),\n",
       " Row(test=[u'', u'.', u'']),\n",
       " Row(test=None),\n",
       " Row(test=[u'', u'.', u'']),\n",
       " Row(test=None),\n",
       " Row(test=[u'', u'.', u'']),\n",
       " Row(test=[u'', u'.', u'']),\n",
       " Row(test=[u'', u'.', u'']),\n",
       " Row(test=[u'', u'.', u'']),\n",
       " Row(test=[u'', u'.', u'']),\n",
       " Row(test=[u'', u'.', u'']),\n",
       " Row(test=[u'', u'.', u'']),\n",
       " Row(test=[u'', u'.', u'']),\n",
       " Row(test=[u'', u'.', u'']),\n",
       " Row(test=[u'', u'.', u'']),\n",
       " Row(test=[u'', u'.', u'']),\n",
       " Row(test=[u'', u'.', u'']),\n",
       " Row(test=[u'', u'.', u'']),\n",
       " Row(test=[u'', u'.', u'']),\n",
       " Row(test=[u'', u'.', u'']),\n",
       " Row(test=[u'', u'.', u'']),\n",
       " Row(test=[u'', u'.', u'']),\n",
       " Row(test=[u'', u'.', u'']),\n",
       " Row(test=[u'', u'.', u'']),\n",
       " Row(test=[u'', u'.', u'']),\n",
       " Row(test=None),\n",
       " Row(test=[u'', u'.', u'']),\n",
       " Row(test=[u'', u'.', u'']),\n",
       " Row(test=[u'', u'.', u'']),\n",
       " Row(test=[u'', u'.', u'']),\n",
       " Row(test=None),\n",
       " Row(test=[u'', u'.', u'']),\n",
       " Row(test=[u'', u'.', u'']),\n",
       " Row(test=[u'', u'.', u'']),\n",
       " Row(test=None),\n",
       " Row(test=[u'', u'.', u'']),\n",
       " Row(test=[u'', u'.', u'']),\n",
       " Row(test=[u'', u'.', u'']),\n",
       " Row(test=[u'', u'.', u'']),\n",
       " Row(test=[u'', u'.', u'']),\n",
       " Row(test=[u'', u'.', u'']),\n",
       " Row(test=[u'', u'.', u'']),\n",
       " Row(test=None),\n",
       " Row(test=[u'', u'.', u'']),\n",
       " Row(test=[u'', u'.', u'']),\n",
       " Row(test=[u'', u'.', u'']),\n",
       " Row(test=None),\n",
       " Row(test=None),\n",
       " Row(test=[u'', u'.', u'']),\n",
       " Row(test=[u'', u'.', u'']),\n",
       " Row(test=[u'', u'.', u'']),\n",
       " Row(test=None),\n",
       " Row(test=[u'', u'.', u'']),\n",
       " Row(test=[u'', u'.', u'']),\n",
       " Row(test=None),\n",
       " Row(test=[u'', u'.', u'']),\n",
       " Row(test=[u'', u'.', u'']),\n",
       " Row(test=None),\n",
       " Row(test=[u'', u'.', u'']),\n",
       " Row(test=[u'', u'.', u'']),\n",
       " Row(test=[u'', u'.', u'']),\n",
       " Row(test=None),\n",
       " Row(test=None),\n",
       " Row(test=[u'', u'.', u'']),\n",
       " Row(test=[u'', u'.', u'']),\n",
       " Row(test=[u'', u'.', u'']),\n",
       " Row(test=[u'', u'.', u'']),\n",
       " Row(test=[u'', u'.', u'']),\n",
       " Row(test=None),\n",
       " Row(test=[u'', u'.', u'']),\n",
       " Row(test=[u'', u'.', u'']),\n",
       " Row(test=None),\n",
       " Row(test=[u'', u'.', u'']),\n",
       " Row(test=[u'', u'.', u'']),\n",
       " Row(test=None),\n",
       " Row(test=[u'', u'.', u'']),\n",
       " Row(test=[u'', u'.', u'']),\n",
       " Row(test=[u'', u'.', u'']),\n",
       " Row(test=None),\n",
       " Row(test=[u'', u'.', u'']),\n",
       " Row(test=None),\n",
       " Row(test=[u'', u'.', u'']),\n",
       " Row(test=[u'', u'.', u'']),\n",
       " Row(test=[u'', u'.', u'']),\n",
       " Row(test=[u'', u'.', u'']),\n",
       " Row(test=[u'', u'.', u'']),\n",
       " Row(test=[u'', u'.', u'']),\n",
       " Row(test=[u'', u'.', u'']),\n",
       " Row(test=[u'', u'.', u'']),\n",
       " Row(test=[u'', u'.', u'']),\n",
       " Row(test=[u'', u'.', u'']),\n",
       " Row(test=[u'', u'.', u'']),\n",
       " Row(test=[u'', u'.', u'']),\n",
       " Row(test=None),\n",
       " Row(test=[u'', u'.', u'']),\n",
       " Row(test=[u'', u'.', u'']),\n",
       " Row(test=[u'', u'.', u'']),\n",
       " Row(test=[u'', u'.', u'']),\n",
       " Row(test=[u'', u'.', u'']),\n",
       " Row(test=None),\n",
       " Row(test=[u'', u'.', u'']),\n",
       " Row(test=[u'', u'.', u'']),\n",
       " Row(test=[u'', u'.', u'']),\n",
       " Row(test=[u'', u'.', u'']),\n",
       " Row(test=None),\n",
       " Row(test=[u'', u'.', u'']),\n",
       " Row(test=None),\n",
       " Row(test=[u'', u'.', u'']),\n",
       " Row(test=[u'', u'.', u'']),\n",
       " Row(test=[u'', u'.', u'']),\n",
       " Row(test=[u'', u'.', u'']),\n",
       " Row(test=[u'', u'.', u'']),\n",
       " Row(test=[u'', u'.', u'']),\n",
       " Row(test=[u'', u'.', u'']),\n",
       " Row(test=[u'', u'.', u'']),\n",
       " Row(test=[u'', u'.', u'']),\n",
       " Row(test=[u'', u'.', u'']),\n",
       " Row(test=[u'', u'.', u'']),\n",
       " Row(test=[u'', u'.', u'']),\n",
       " Row(test=[u'', u'.', u'']),\n",
       " Row(test=[u'', u'.', u'']),\n",
       " Row(test=[u'', u'.', u'']),\n",
       " Row(test=[u'', u'.', u'']),\n",
       " Row(test=[u'', u'.', u'']),\n",
       " Row(test=[u'', u'.', u'']),\n",
       " Row(test=[u'', u'.', u'']),\n",
       " Row(test=[u'', u'.', u'']),\n",
       " Row(test=[u'', u'.', u'']),\n",
       " Row(test=[u'', u'.', u'']),\n",
       " Row(test=[u'', u'.', u'']),\n",
       " Row(test=[u'', u'.', u'']),\n",
       " Row(test=None),\n",
       " Row(test=None),\n",
       " Row(test=[u'', u'.', u'']),\n",
       " Row(test=[u'', u'.', u'']),\n",
       " Row(test=[u'', u'.', u'']),\n",
       " Row(test=[u'', u'.', u'']),\n",
       " Row(test=[u'', u'.', u'']),\n",
       " Row(test=[u'', u'.', u'']),\n",
       " Row(test=[u'', u'.', u'']),\n",
       " Row(test=[u'', u'.', u'']),\n",
       " Row(test=[u'', u'.', u'']),\n",
       " Row(test=[u'', u'.', u'']),\n",
       " Row(test=[u'', u'.', u'']),\n",
       " Row(test=None),\n",
       " Row(test=[u'', u'.', u'']),\n",
       " Row(test=[u'', u'.', u'']),\n",
       " Row(test=[u'', u'.', u'']),\n",
       " Row(test=[u'', u'.', u'']),\n",
       " Row(test=[u'', u'.', u'']),\n",
       " Row(test=[u'', u'.', u'']),\n",
       " Row(test=[u'', u'.', u'']),\n",
       " Row(test=[u'', u'.', u'']),\n",
       " Row(test=[u'', u'.', u'']),\n",
       " Row(test=[u'', u'.', u'']),\n",
       " Row(test=[u'', u'.', u'']),\n",
       " Row(test=None),\n",
       " Row(test=None),\n",
       " Row(test=[u'', u'.', u'']),\n",
       " Row(test=None),\n",
       " Row(test=None),\n",
       " Row(test=[u'', u'.', u'']),\n",
       " Row(test=[u'', u'.', u'']),\n",
       " Row(test=[u'', u'.', u'']),\n",
       " Row(test=[u'', u'.', u'']),\n",
       " Row(test=[u'', u'.', u'']),\n",
       " Row(test=None),\n",
       " Row(test=[u'', u'.', u'']),\n",
       " Row(test=[u'', u'.', u'']),\n",
       " Row(test=[u'', u'.', u'']),\n",
       " Row(test=[u'', u'.', u'']),\n",
       " Row(test=[u'', u'.', u'']),\n",
       " Row(test=[u'', u'.', u'']),\n",
       " Row(test=[u'', u'.', u'']),\n",
       " Row(test=None),\n",
       " Row(test=[u'', u'.', u'']),\n",
       " Row(test=None),\n",
       " Row(test=[u'', u'.', u'']),\n",
       " Row(test=[u'', u'.', u'']),\n",
       " Row(test=None),\n",
       " Row(test=[u'', u'.', u'']),\n",
       " Row(test=[u'', u'.', u'']),\n",
       " Row(test=[u'', u'.', u'']),\n",
       " Row(test=[u'', u'.', u'']),\n",
       " Row(test=None),\n",
       " Row(test=[u'', u'.', u'']),\n",
       " Row(test=[u'', u'.', u'']),\n",
       " Row(test=[u'', u'.', u'']),\n",
       " Row(test=[u'', u'.', u'']),\n",
       " Row(test=[u'', u'.', u'']),\n",
       " Row(test=[u'', u'.', u'']),\n",
       " Row(test=[u'', u'.', u'']),\n",
       " Row(test=[u'', u'.', u'']),\n",
       " Row(test=None),\n",
       " Row(test=[u'', u'.', u'']),\n",
       " Row(test=[u'', u'.', u'']),\n",
       " Row(test=[u'', u'.', u'']),\n",
       " Row(test=None),\n",
       " Row(test=[u'', u'.', u'']),\n",
       " Row(test=[u'', u'.', u'']),\n",
       " Row(test=[u'', u'.', u'']),\n",
       " Row(test=[u'', u'.', u'']),\n",
       " Row(test=[u'', u'.', u'']),\n",
       " Row(test=[u'', u'.', u'']),\n",
       " Row(test=[u'', u'.', u'']),\n",
       " Row(test=[u'', u'.', u'']),\n",
       " Row(test=[u'', u'.', u'']),\n",
       " Row(test=[u'', u'.', u'']),\n",
       " Row(test=[u'', u'.', u'']),\n",
       " Row(test=[u'', u'.', u'']),\n",
       " Row(test=[u'', u'.', u'']),\n",
       " Row(test=[u'', u'.', u'']),\n",
       " Row(test=None),\n",
       " Row(test=[u'', u'.', u'']),\n",
       " Row(test=[u'', u'.', u'']),\n",
       " Row(test=[u'', u'.', u'']),\n",
       " Row(test=[u'', u'.', u'']),\n",
       " Row(test=[u'', u'.', u'']),\n",
       " Row(test=[u'', u'.', u'']),\n",
       " Row(test=[u'', u'.', u'']),\n",
       " Row(test=[u'', u'.', u'']),\n",
       " Row(test=[u'', u'.', u'']),\n",
       " Row(test=[u'', u'.', u'']),\n",
       " Row(test=[u'', u'.', u'']),\n",
       " Row(test=[u'', u'.', u'']),\n",
       " Row(test=[u'', u'.', u'']),\n",
       " Row(test=[u'', u'.', u'']),\n",
       " Row(test=[u'', u'.', u'']),\n",
       " Row(test=[u'', u'.', u'']),\n",
       " Row(test=None),\n",
       " Row(test=None),\n",
       " Row(test=[u'', u'.', u'']),\n",
       " Row(test=[u'', u'.', u'']),\n",
       " Row(test=[u'', u'.', u'']),\n",
       " Row(test=[u'', u'.', u'']),\n",
       " Row(test=[u'', u'.', u'']),\n",
       " Row(test=[u'', u'.', u'']),\n",
       " Row(test=[u'', u'.', u'']),\n",
       " Row(test=[u'', u'.', u'']),\n",
       " Row(test=[u'', u'.', u'']),\n",
       " Row(test=[u'', u'.', u'']),\n",
       " Row(test=None),\n",
       " Row(test=[u'', u'.', u'']),\n",
       " Row(test=[u'', u'.', u'']),\n",
       " Row(test=[u'', u'.', u'']),\n",
       " Row(test=[u'', u'.', u'']),\n",
       " Row(test=[u'', u'.', u'']),\n",
       " Row(test=None),\n",
       " Row(test=[u'', u'.', u'']),\n",
       " Row(test=[u'', u'.', u'']),\n",
       " Row(test=[u'', u'.', u'']),\n",
       " Row(test=None),\n",
       " Row(test=[u'', u'.', u'']),\n",
       " Row(test=[u'', u'.', u'']),\n",
       " Row(test=[u'', u'.', u'']),\n",
       " Row(test=[u'', u'.', u'']),\n",
       " Row(test=[u'', u'.', u'']),\n",
       " Row(test=[u'', u'.', u'']),\n",
       " Row(test=None),\n",
       " Row(test=[u'', u'.', u'']),\n",
       " Row(test=[u'', u'.', u'']),\n",
       " Row(test=None),\n",
       " Row(test=[u'', u'.', u'']),\n",
       " Row(test=[u'', u'.', u'']),\n",
       " Row(test=[u'', u'.', u'']),\n",
       " Row(test=[u'', u'.', u'']),\n",
       " Row(test=None),\n",
       " Row(test=[u'', u'.', u'']),\n",
       " Row(test=[u'', u'.', u'']),\n",
       " Row(test=[u'', u'.', u'']),\n",
       " Row(test=None),\n",
       " Row(test=[u'', u'.', u'']),\n",
       " Row(test=[u'', u'.', u'']),\n",
       " Row(test=[u'', u'.', u'']),\n",
       " Row(test=[u'', u'.', u'']),\n",
       " Row(test=[u'', u'.', u'']),\n",
       " Row(test=[u'', u'.', u'']),\n",
       " Row(test=[u'', u'.', u'']),\n",
       " Row(test=[u'', u'.', u'']),\n",
       " Row(test=[u'', u'.', u'']),\n",
       " Row(test=[u'', u'.', u'']),\n",
       " Row(test=[u'', u'.', u'']),\n",
       " Row(test=[u'', u'.', u'']),\n",
       " Row(test=[u'', u'.', u'']),\n",
       " Row(test=[u'', u'.', u'']),\n",
       " Row(test=[u'', u'.', u'']),\n",
       " Row(test=[u'', u'.', u'']),\n",
       " Row(test=None),\n",
       " Row(test=[u'', u'.', u'']),\n",
       " Row(test=[u'', u'.', u'']),\n",
       " Row(test=[u'', u'.', u'']),\n",
       " Row(test=[u'', u'.', u'']),\n",
       " Row(test=[u'', u'.', u'']),\n",
       " Row(test=None),\n",
       " Row(test=None),\n",
       " Row(test=None),\n",
       " Row(test=None),\n",
       " Row(test=[u'', u'.', u'']),\n",
       " Row(test=[u'', u'.', u'']),\n",
       " Row(test=[u'', u'.', u'']),\n",
       " Row(test=[u'', u'.', u'']),\n",
       " Row(test=[u'', u'.', u'']),\n",
       " Row(test=[u'', u'.', u'']),\n",
       " Row(test=[u'', u'.', u'']),\n",
       " Row(test=[u'', u'.', u'']),\n",
       " Row(test=None),\n",
       " Row(test=None),\n",
       " Row(test=[u'', u'.', u'']),\n",
       " Row(test=[u'', u'.', u'']),\n",
       " Row(test=[u'', u'.', u'']),\n",
       " Row(test=None),\n",
       " Row(test=[u'', u'.', u'']),\n",
       " Row(test=[u'', u'.', u'']),\n",
       " Row(test=[u'', u'.', u'']),\n",
       " Row(test=[u'', u'.', u'']),\n",
       " Row(test=[u'', u'.', u'']),\n",
       " Row(test=[u'', u'.', u'']),\n",
       " Row(test=[u'', u'.', u'']),\n",
       " Row(test=[u'', u'.', u'']),\n",
       " Row(test=[u'', u'.', u'']),\n",
       " Row(test=None),\n",
       " Row(test=None),\n",
       " Row(test=[u'', u'.', u'']),\n",
       " Row(test=[u'', u'.', u'']),\n",
       " Row(test=[u'', u'.', u'']),\n",
       " Row(test=[u'', u'.', u'']),\n",
       " Row(test=[u'', u'.', u'']),\n",
       " Row(test=[u'', u'.', u'']),\n",
       " Row(test=None),\n",
       " Row(test=None),\n",
       " Row(test=None),\n",
       " Row(test=[u'', u'.', u'']),\n",
       " Row(test=[u'', u'.', u'']),\n",
       " Row(test=[u'', u'.', u'']),\n",
       " Row(test=[u'', u'.', u'']),\n",
       " Row(test=[u'', u'.', u'']),\n",
       " Row(test=None),\n",
       " Row(test=[u'', u'.', u'']),\n",
       " Row(test=None),\n",
       " Row(test=None),\n",
       " Row(test=[u'', u'.', u'']),\n",
       " Row(test=None),\n",
       " Row(test=[u'', u'.', u'']),\n",
       " Row(test=[u'', u'.', u'']),\n",
       " Row(test=[u'', u'.', u'']),\n",
       " Row(test=[u'', u'.', u'']),\n",
       " Row(test=None),\n",
       " Row(test=[u'', u'.', u'']),\n",
       " Row(test=[u'', u'.', u'']),\n",
       " Row(test=[u'', u'.', u'']),\n",
       " Row(test=None),\n",
       " Row(test=None),\n",
       " Row(test=[u'', u'.', u'']),\n",
       " Row(test=[u'', u'.', u'']),\n",
       " Row(test=[u'', u'.', u'']),\n",
       " Row(test=None),\n",
       " Row(test=[u'', u'.', u'']),\n",
       " Row(test=[u'', u'.', u'']),\n",
       " Row(test=[u'', u'.', u'']),\n",
       " Row(test=[u'', u'.', u'']),\n",
       " Row(test=[u'', u'.', u'']),\n",
       " Row(test=[u'', u'.', u'']),\n",
       " Row(test=[u'', u'.', u'']),\n",
       " Row(test=None),\n",
       " Row(test=[u'', u'.', u'']),\n",
       " Row(test=[u'', u'.', u'']),\n",
       " Row(test=None),\n",
       " Row(test=[u'', u'.', u'']),\n",
       " Row(test=None),\n",
       " Row(test=[u'', u'.', u'']),\n",
       " Row(test=None),\n",
       " Row(test=[u'', u'.', u'']),\n",
       " Row(test=[u'', u'.', u'']),\n",
       " Row(test=[u'', u'.', u'']),\n",
       " Row(test=None),\n",
       " Row(test=[u'', u'.', u'']),\n",
       " Row(test=[u'', u'.', u'']),\n",
       " Row(test=[u'', u'.', u'']),\n",
       " Row(test=None),\n",
       " Row(test=None),\n",
       " Row(test=[u'', u'.', u'']),\n",
       " Row(test=[u'', u'.', u'']),\n",
       " Row(test=None),\n",
       " Row(test=[u'', u'.', u'']),\n",
       " Row(test=None),\n",
       " Row(test=[u'', u'.', u'']),\n",
       " Row(test=[u'', u'.', u'']),\n",
       " Row(test=[u'', u'.', u'']),\n",
       " Row(test=[u'', u'.', u'']),\n",
       " Row(test=[u'', u'.', u'']),\n",
       " Row(test=[u'', u'.', u'']),\n",
       " Row(test=None),\n",
       " Row(test=[u'', u'.', u'']),\n",
       " Row(test=[u'', u'.', u'']),\n",
       " Row(test=[u'', u'.', u'']),\n",
       " Row(test=None),\n",
       " Row(test=[u'', u'.', u'']),\n",
       " Row(test=[u'', u'.', u'']),\n",
       " Row(test=[u'', u'.', u'']),\n",
       " Row(test=None),\n",
       " Row(test=None),\n",
       " Row(test=[u'', u'.', u'']),\n",
       " Row(test=[u'', u'.', u'']),\n",
       " Row(test=[u'', u'.', u'']),\n",
       " Row(test=[u'', u'.', u'']),\n",
       " Row(test=[u'', u'.', u'']),\n",
       " Row(test=[u'', u'.', u'']),\n",
       " Row(test=[u'', u'.', u'']),\n",
       " Row(test=[u'', u'.', u'']),\n",
       " Row(test=[u'', u'.', u'']),\n",
       " Row(test=[u'', u'.', u'']),\n",
       " Row(test=[u'', u'.', u'']),\n",
       " Row(test=[u'', u'.', u'']),\n",
       " Row(test=[u'', u'.', u'']),\n",
       " Row(test=None),\n",
       " Row(test=[u'', u'.', u'']),\n",
       " Row(test=[u'', u'.', u'']),\n",
       " Row(test=None),\n",
       " Row(test=None),\n",
       " Row(test=[u'', u'.', u'']),\n",
       " Row(test=[u'', u'.', u'']),\n",
       " Row(test=[u'', u'.', u'']),\n",
       " Row(test=None),\n",
       " Row(test=[u'', u'.', u'']),\n",
       " Row(test=[u'', u'.', u'']),\n",
       " Row(test=[u'', u'.', u'']),\n",
       " Row(test=None),\n",
       " Row(test=[u'', u'.', u'']),\n",
       " Row(test=[u'', u'.', u'']),\n",
       " Row(test=[u'', u'.', u'']),\n",
       " Row(test=None),\n",
       " Row(test=[u'', u'.', u'']),\n",
       " Row(test=[u'', u'.', u'']),\n",
       " Row(test=None),\n",
       " Row(test=[u'', u'.', u'']),\n",
       " Row(test=None),\n",
       " Row(test=[u'', u'.', u'']),\n",
       " Row(test=[u'', u'.', u'']),\n",
       " Row(test=[u'', u'.', u'']),\n",
       " Row(test=[u'', u'.', u'']),\n",
       " Row(test=None),\n",
       " Row(test=[u'', u'.', u'']),\n",
       " Row(test=[u'', u'.', u'']),\n",
       " Row(test=[u'', u'.', u'']),\n",
       " Row(test=[u'', u'.', u'']),\n",
       " Row(test=None),\n",
       " Row(test=[u'', u'.', u'']),\n",
       " Row(test=None),\n",
       " Row(test=[u'', u'.', u'']),\n",
       " Row(test=[u'', u'.', u'']),\n",
       " Row(test=[u'', u'.', u'']),\n",
       " Row(test=[u'', u'.', u'']),\n",
       " Row(test=[u'', u'.', u'']),\n",
       " Row(test=[u'', u'.', u'']),\n",
       " Row(test=None),\n",
       " Row(test=[u'', u'.', u'']),\n",
       " Row(test=[u'', u'.', u'']),\n",
       " Row(test=[u'', u'.', u'']),\n",
       " Row(test=[u'', u'.', u'']),\n",
       " Row(test=[u'', u'.', u'']),\n",
       " Row(test=[u'', u'.', u'']),\n",
       " Row(test=[u'', u'.', u'']),\n",
       " Row(test=[u'', u'.', u'']),\n",
       " Row(test=[u'', u'.', u'']),\n",
       " Row(test=[u'', u'.', u'']),\n",
       " Row(test=[u'', u'.', u'']),\n",
       " Row(test=[u'', u'.', u'']),\n",
       " Row(test=None),\n",
       " Row(test=None),\n",
       " Row(test=[u'', u'.', u'']),\n",
       " Row(test=None),\n",
       " Row(test=[u'', u'.', u'']),\n",
       " Row(test=[u'', u'.', u'']),\n",
       " Row(test=[u'', u'.', u'']),\n",
       " Row(test=[u'', u'.', u'']),\n",
       " Row(test=[u'', u'.', u'']),\n",
       " Row(test=None),\n",
       " Row(test=None),\n",
       " Row(test=None),\n",
       " Row(test=[u'', u'.', u'']),\n",
       " Row(test=None),\n",
       " Row(test=None),\n",
       " Row(test=[u'', u'.', u'']),\n",
       " Row(test=[u'', u'.', u'']),\n",
       " Row(test=None),\n",
       " Row(test=[u'', u'.', u'']),\n",
       " Row(test=[u'', u'.', u'']),\n",
       " Row(test=[u'', u'.', u'']),\n",
       " Row(test=None),\n",
       " Row(test=[u'', u'.', u'']),\n",
       " Row(test=[u'', u'.', u'']),\n",
       " Row(test=None),\n",
       " Row(test=[u'', u'.', u'']),\n",
       " Row(test=[u'', u'.', u'']),\n",
       " Row(test=[u'', u'.', u'']),\n",
       " Row(test=[u'', u'.', u'']),\n",
       " Row(test=[u'', u'.', u'']),\n",
       " Row(test=[u'', u'.', u'']),\n",
       " Row(test=None),\n",
       " Row(test=[u'', u'.', u'']),\n",
       " Row(test=[u'', u'.', u'']),\n",
       " Row(test=[u'', u'.', u'']),\n",
       " Row(test=None),\n",
       " Row(test=[u'', u'.', u'']),\n",
       " Row(test=[u'', u'.', u'']),\n",
       " Row(test=[u'', u'.', u'']),\n",
       " Row(test=[u'', u'.', u'']),\n",
       " Row(test=None),\n",
       " Row(test=[u'', u'.', u'']),\n",
       " Row(test=[u'', u'.', u'']),\n",
       " Row(test=[u'', u'.', u'']),\n",
       " Row(test=None),\n",
       " Row(test=[u'', u'.', u'']),\n",
       " Row(test=[u'', u'.', u'']),\n",
       " Row(test=[u'', u'.', u'']),\n",
       " Row(test=[u'', u'.', u'']),\n",
       " ...]"
      ]
     },
     "execution_count": 57,
     "metadata": {},
     "output_type": "execute_result"
    }
   ],
   "source": [
    "# split a column by the numbers [as9df] will be [as, df]; can be sub by '-'. This will be saperated by the \"-\",\n",
    "# convert_numbers_to_string.select(split(convert_numbers_to_string[\"MonthlyIncome_new\"], '[0-9]+').alias('test')).collect()"
   ]
  },
  {
   "cell_type": "markdown",
   "metadata": {},
   "source": [
    "## 6. SQL Data Extraction\n",
    "After previous steps, in this section, you can extract the specific variables you need and use the standard SQL Query language to do your work here.\n",
    "<br /> **Note:** The registerDataFrameAsTable step is necessary\n",
    "<a id='select_filter'></a>\n",
    "### 6.a) Select, Filter, Delete, Sort"
   ]
  },
  {
   "cell_type": "code",
   "execution_count": 58,
   "metadata": {
    "collapsed": true
   },
   "outputs": [],
   "source": [
    "# NEED TO CONVERT DATAFRAME TO TABLE FIRST \n",
    "sqlc.registerDataFrameAsTable(df, \"sql_table\")"
   ]
  },
  {
   "cell_type": "code",
   "execution_count": 59,
   "metadata": {
    "scrolled": true
   },
   "outputs": [
    {
     "name": "stdout",
     "output_type": "stream",
     "text": [
      "+-------+----------------+------------------------------------+---+------------------------------------+-----------+-------------+-------------------------------+-----------------------+----------------------------+------------------------------------+------------------+\n",
      "|user_id|SeriousDlqin2yrs|RevolvingUtilizationOfUnsecuredLines|age|NumberOfTime30_59DaysPastDueNotWorse|  DebtRatio|MonthlyIncome|NumberOfOpenCreditLinesAndLoans|NumberOfTimes90DaysLate|NumberRealEstateLoansOrLines|NumberOfTime60_89DaysPastDueNotWorse|NumberOfDependents|\n",
      "+-------+----------------+------------------------------------+---+------------------------------------+-----------+-------------+-------------------------------+-----------------------+----------------------------+------------------------------------+------------------+\n",
      "|  10001|               0|                         0.957151019| 40|                                   0|0.121876201|         2600|                              4|                      0|                           0|                                   0|                 1|\n",
      "|  10002|               0|                          0.65818014| 38|                                   1|0.085113375|         3042|                              2|                      1|                           0|                                   0|                 0|\n",
      "+-------+----------------+------------------------------------+---+------------------------------------+-----------+-------------+-------------------------------+-----------------------+----------------------------+------------------------------------+------------------+\n",
      "only showing top 2 rows\n",
      "\n"
     ]
    }
   ],
   "source": [
    "## in the \"\"\" \"\"\", you can use your standard SQL query.\n",
    "sqlc.sql(\"\"\"SELECT * FROM sql_table WHERE age >= 18 SORT BY SeriousDlqin2yrs\"\"\").show(2)  # Select all the the records filter on age column \n",
    "\n",
    "## Alternatively, you can do the following \n",
    "# df.filter(df[\"age\"] >=18).show(3).sort(df[\"age\"])\n",
    "# df.drop('age').columns"
   ]
  },
  {
   "cell_type": "markdown",
   "metadata": {},
   "source": [
    "<a id=\"group_by\"></a>\n",
    "### 6.b) Group By and Summerize"
   ]
  },
  {
   "cell_type": "code",
   "execution_count": 60,
   "metadata": {},
   "outputs": [
    {
     "name": "stdout",
     "output_type": "stream",
     "text": [
      "+-----------------+-------+\n",
      "|   Avg_Mon_Income|max_age|\n",
      "+-----------------+-------+\n",
      "|4658.904504504504|     88|\n",
      "|4804.447811447812|     78|\n",
      "+-----------------+-------+\n",
      "only showing top 2 rows\n",
      "\n"
     ]
    }
   ],
   "source": [
    "# GroupBy Statement:\n",
    "sqlc.sql(\"\"\"SELECT avg(MonthlyIncome) AS Avg_Mon_Income, max(age) AS max_age FROM sql_table GROUP BY NumberOfTimes90DaysLate, NumberOfDependents\"\"\").show(2)\n",
    "\n",
    "## Alternatively: You can group by any number of coulmns and calculate any kind of aggregate function\n",
    "#df.groupBy('NumberOfTimes90DaysLate','NumberOfDependents').agg({\"MonthlyIncome\": \"avg\", \"age\": \"max\"}).show(5)"
   ]
  },
  {
   "cell_type": "markdown",
   "metadata": {},
   "source": [
    "<a id= \"new_var\"></a>\n",
    "### 6. c) Deriving New Variables"
   ]
  },
  {
   "cell_type": "code",
   "execution_count": 61,
   "metadata": {},
   "outputs": [
    {
     "name": "stdout",
     "output_type": "stream",
     "text": [
      "+-------+--------------------------+\n",
      "|user_id|Ratio_Income_to_Dependents|\n",
      "+-------+--------------------------+\n",
      "|  10000|                    4560.0|\n",
      "|  10001|                    2600.0|\n",
      "+-------+--------------------------+\n",
      "only showing top 2 rows\n",
      "\n"
     ]
    }
   ],
   "source": [
    "derived_var_table = sqlc.sql(\n",
    "    \"\"\"SELECT user_id, MonthlyIncome/NumberOfDependents AS Ratio_Income_to_Dependents \n",
    "    FROM sql_table\"\"\").show(2)\n",
    "\n",
    "# Alternatively:\n",
    "# df.withColumn('Ratio_Income_to_Dependents',df.MonthlyIncome/df.NumberOfDependents).show(3)"
   ]
  },
  {
   "cell_type": "markdown",
   "metadata": {},
   "source": [
    "<a id= \"rename_var\"></a>\n",
    "### 6. d) Rename Variables"
   ]
  },
  {
   "cell_type": "code",
   "execution_count": 62,
   "metadata": {},
   "outputs": [
    {
     "data": {
      "text/plain": [
       "['USER_ID', 'age', 'MonthlyIncome']"
      ]
     },
     "execution_count": 62,
     "metadata": {},
     "output_type": "execute_result"
    }
   ],
   "source": [
    "# Rename the variable user_id to USER_ID\n",
    "sqlc.sql(\"\"\"SELECT user_id as USER_ID, age, MonthlyIncome FROM sql_table\"\"\").columns\n",
    "\n",
    "# Alternatively: A column can be renamed as\n",
    "# df = df.withColumnRenamed('user_id', 'USER_ID')\n",
    "# df.columns"
   ]
  },
  {
   "cell_type": "markdown",
   "metadata": {},
   "source": [
    "<a id=\"relationship\"></a>"
   ]
  },
  {
   "cell_type": "markdown",
   "metadata": {},
   "source": [
    "## 7. SQL Table Relationship\n",
    "In this section, we will focus on multiple table manipulation. \n",
    "<a id=\"append\"></a>\n",
    "###  7.a) Append Rows"
   ]
  },
  {
   "cell_type": "code",
   "execution_count": 63,
   "metadata": {},
   "outputs": [
    {
     "data": {
      "text/plain": [
       "300000"
      ]
     },
     "execution_count": 63,
     "metadata": {},
     "output_type": "execute_result"
    }
   ],
   "source": [
    "## Note that Spark Dataframe is immutable.  df after unionAll is still df with 150K rows.\n",
    "df1 = df.unionAll(df)\n",
    "df1.count()"
   ]
  },
  {
   "cell_type": "markdown",
   "metadata": {},
   "source": [
    "<a id=\"adding columns\"></a>\n",
    "###  7.b) Add Columns"
   ]
  },
  {
   "cell_type": "code",
   "execution_count": 64,
   "metadata": {
    "collapsed": true
   },
   "outputs": [],
   "source": [
    "# Create a new column called \"new_var\" with number 0 \n",
    "df_with_new_var = df.withColumn(\"new_var\", lit(0))"
   ]
  },
  {
   "cell_type": "markdown",
   "metadata": {},
   "source": [
    "<a id=\"joins\"></a>\n",
    "###  7.c) Join Table"
   ]
  },
  {
   "cell_type": "code",
   "execution_count": 65,
   "metadata": {
    "collapsed": true
   },
   "outputs": [],
   "source": [
    "# NEED TO CONVERT DATAFRAME TO TABLE FIRST. \n",
    "sqlc.registerDataFrameAsTable(df, \"sql_table_1\")\n",
    "sqlc.registerDataFrameAsTable(df, \"sql_table_2\")"
   ]
  },
  {
   "cell_type": "code",
   "execution_count": 66,
   "metadata": {
    "collapsed": true
   },
   "outputs": [],
   "source": [
    "## LEFT JOIN\n",
    "\n",
    "left_join = sqlc.sql(\"\"\"SELECT * FROM sql_table_1 LEFT JOIN sql_table_2 ON sql_table_1.user_id = sql_table_2.user_id\"\"\")\n",
    "\n",
    "# Alternatively, you can write it the following style:\n",
    "# left_join = df1.join(df2, df1[\"user_id\"] == df2[\"user_id\"], 'leftouter').drop(df2[\"user_id\"]).show(1)"
   ]
  },
  {
   "cell_type": "code",
   "execution_count": 67,
   "metadata": {
    "collapsed": true
   },
   "outputs": [],
   "source": [
    "## INNER JOIN\n",
    "inner_join = sqlc.sql(\"\"\"SELECT * FROM sql_table_1 INNER JOIN sql_table_2 ON sql_table_1.user_id = sql_table_2.user_id\"\"\")\n",
    "\n",
    "# Alternatively, you can write it the following style:\n",
    "# inner_join = df1.join(df2, df1[\"user_id\"] == df2[\"user_id\"], 'inner').drop(df2[\"user_id\"]).show(1)"
   ]
  },
  {
   "cell_type": "code",
   "execution_count": 68,
   "metadata": {
    "collapsed": true
   },
   "outputs": [],
   "source": [
    "## OUTER JOIN\n",
    "outer_join = sqlc.sql(\"\"\"SELECT * FROM sql_table_1 FULL OUTER JOIN sql_table_2 ON sql_table_1.user_id = sql_table_2.user_id\"\"\")\n",
    "\n",
    "# Alternatively, you can write it the following style:\n",
    "#outer_join = df1.join(df2, df1[\"user_id\"] == df2[\"user_id\"], 'outer').drop(df2[\"user_id\"]).show(1)"
   ]
  },
  {
   "cell_type": "markdown",
   "metadata": {
    "collapsed": true
   },
   "source": [
    "<a id=\"statistic\"></a>\n",
    "## 8. Initial Analysis"
   ]
  },
  {
   "cell_type": "code",
   "execution_count": 69,
   "metadata": {
    "scrolled": false
   },
   "outputs": [
    {
     "name": "stdout",
     "output_type": "stream",
     "text": [
      "+----------------+------+\n",
      "|SeriousDlqin2yrs| count|\n",
      "+----------------+------+\n",
      "|               0|139974|\n",
      "|               1| 10026|\n",
      "+----------------+------+\n",
      "\n"
     ]
    }
   ],
   "source": [
    "## Show the frequency of certain categorical variables\n",
    "df.groupBy('SeriousDlqin2yrs').count().show()"
   ]
  },
  {
   "cell_type": "code",
   "execution_count": 70,
   "metadata": {},
   "outputs": [
    {
     "name": "stdout",
     "output_type": "stream",
     "text": [
      "+--------+------------------+--------+\n",
      "|min(age)|          avg(age)|max(age)|\n",
      "+--------+------------------+--------+\n",
      "|       0|52.295206666666665|     109|\n",
      "+--------+------------------+--------+\n",
      "\n"
     ]
    }
   ],
   "source": [
    "## Looking for min , average, max of a particular columns.\n",
    "output = df.agg(min(df['age']), avg(df['age']),max(df['age'])).show()"
   ]
  },
  {
   "cell_type": "markdown",
   "metadata": {},
   "source": [
    "<a id= \"output\"></a>\n",
    "## 9. Sampling and Data Output"
   ]
  },
  {
   "cell_type": "code",
   "execution_count": 74,
   "metadata": {},
   "outputs": [],
   "source": [
    "# A Sample can be created out of a dataset using the sample function\n",
    "# Please specify the value withReplacement as True or False with fraction and also seed value if required\n",
    "sample_Data = df.sample(withReplacement=True,fraction=0.5)\n",
    "\n",
    "# You can also create a sample using a column \n",
    "# df.sampleBy('age',fractions={0:1}).show()"
   ]
  },
  {
   "cell_type": "code",
   "execution_count": 77,
   "metadata": {},
   "outputs": [],
   "source": [
    "## Output the sample data \n",
    "sample_Data.write.json(\"../a1_data/sample_Data\")\n",
    "\n",
    "# df.write.csv(path)/ df.write.jason(path)/ df.write.parquet(path)/ df.write.orc(path) "
   ]
  }
 ],
 "metadata": {
  "kernelspec": {
   "display_name": "Python 2",
   "language": "python",
   "name": "python2"
  },
  "language_info": {
   "codemirror_mode": {
    "name": "ipython",
    "version": 2
   },
   "file_extension": ".py",
   "mimetype": "text/x-python",
   "name": "python",
   "nbconvert_exporter": "python",
   "pygments_lexer": "ipython2",
   "version": "2.7.13"
  }
 },
 "nbformat": 4,
 "nbformat_minor": 2
}
