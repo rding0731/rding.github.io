{
 "cells": [
  {
   "cell_type": "code",
   "execution_count": 375,
   "metadata": {
    "collapsed": false
   },
   "outputs": [
    {
     "name": "stdout",
     "output_type": "stream",
     "text": [
      "Populating the interactive namespace from numpy and matplotlib\n"
     ]
    }
   ],
   "source": [
    "%pylab inline\n",
    "import pandas as pd"
   ]
  },
  {
   "cell_type": "code",
   "execution_count": 376,
   "metadata": {
    "collapsed": false
   },
   "outputs": [],
   "source": [
    "dataset_train = pd.read_csv(\"xtrain_final.csv\", sep = ',')\n",
    "dataset_test = pd.read_csv(\"xtest_final.csv\", sep = ',')\n",
    "dataset_train.drop(['Unnamed: 0'], axis=1, inplace=True)\n",
    "dataset_test.drop(['Unnamed: 0','var11', 'var7_1.1','var7_2.1','var7_3.1','var7_4.1','var7_5.1',\n",
    "                   'var7_6.1','var7_7.1','var7_8.1'], axis=1, inplace=True)"
   ]
  },
  {
   "cell_type": "code",
   "execution_count": 377,
   "metadata": {
    "collapsed": true
   },
   "outputs": [],
   "source": [
    "weather=[]\n",
    "for i in range(1,49):\n",
    "    weather.append('weahter_trim'+str(i))"
   ]
  },
  {
   "cell_type": "code",
   "execution_count": 378,
   "metadata": {
    "collapsed": true
   },
   "outputs": [],
   "source": [
    "from sklearn.decomposition import PCA\n",
    "from sklearn import preprocessing\n",
    "min_max_scaler = preprocessing.MinMaxScaler()\n",
    "weather_train_minmax = min_max_scaler.fit_transform(dataset_train[weather])\n",
    "weather_test_minmax = min_max_scaler.fit_transform(dataset_test[weather])\n",
    "\n",
    "pca = PCA()\n",
    "weather_pca_train = pca.set_params(n_components = 2).fit_transform(weather_train_minmax)\n",
    "weather_pca_test = pca.transform(weather_test_minmax)"
   ]
  },
  {
   "cell_type": "code",
   "execution_count": 379,
   "metadata": {
    "collapsed": false
   },
   "outputs": [],
   "source": [
    "df_wea_pca_train = pd.DataFrame(weather_pca_train, columns=['pca_wea1', 'pca_wea2'])\n",
    "df_wea_pca_test = pd.DataFrame(weather_pca_test, columns=['pca_wea1', 'pca_wea2'])"
   ]
  },
  {
   "cell_type": "code",
   "execution_count": 380,
   "metadata": {
    "collapsed": true
   },
   "outputs": [],
   "source": [
    "X_train = pd.concat([dataset_train,df_wea_pca_train], axis = 1)\n",
    "X_test = pd.concat([dataset_test,df_wea_pca_test], axis = 1)"
   ]
  },
  {
   "cell_type": "code",
   "execution_count": 381,
   "metadata": {
    "collapsed": true
   },
   "outputs": [],
   "source": [
    "X_train.drop(weather, axis =1, inplace = True)\n",
    "X_test.drop(weather, axis =1, inplace = True)"
   ]
  },
  {
   "cell_type": "code",
   "execution_count": 382,
   "metadata": {
    "collapsed": false
   },
   "outputs": [],
   "source": [
    "X_train.drop(['pca_crime1','pca_crime2'], axis =1, inplace = True)\n",
    "X_test.drop(['pca_crime1','pca_crime2'], axis =1, inplace = True)"
   ]
  },
  {
   "cell_type": "code",
   "execution_count": 383,
   "metadata": {
    "collapsed": true
   },
   "outputs": [],
   "source": [
    "labels_total = X_train['target_binary']\n",
    "logloss_total = X_train['logloss']\n",
    "weights_total = X_train['var11']\n",
    "target_total = X_train['target']"
   ]
  },
  {
   "cell_type": "code",
   "execution_count": 341,
   "metadata": {
    "collapsed": false
   },
   "outputs": [],
   "source": [
    "#X_train.drop(['target_binary','logloss', 'var11', 'target'], axis =1, inplace = True)"
   ]
  },
  {
   "cell_type": "code",
   "execution_count": 357,
   "metadata": {
    "collapsed": false
   },
   "outputs": [
    {
     "data": {
      "text/plain": [
       "(452061, 74)"
      ]
     },
     "execution_count": 357,
     "metadata": {},
     "output_type": "execute_result"
    }
   ],
   "source": [
    "X_train.shape"
   ]
  },
  {
   "cell_type": "code",
   "execution_count": 358,
   "metadata": {
    "collapsed": false
   },
   "outputs": [
    {
     "data": {
      "text/plain": [
       "(450728, 70)"
      ]
     },
     "execution_count": 358,
     "metadata": {},
     "output_type": "execute_result"
    }
   ],
   "source": [
    "X_test.shape"
   ]
  },
  {
   "cell_type": "markdown",
   "metadata": {},
   "source": [
    "# Take Sample to do training"
   ]
  },
  {
   "cell_type": "code",
   "execution_count": 384,
   "metadata": {
    "collapsed": false
   },
   "outputs": [],
   "source": [
    "df_fires = X_train[X_train.target > 0]\n",
    "df_fires_noloss = X_train[X_train.target == 0].iloc[:100000]"
   ]
  },
  {
   "cell_type": "code",
   "execution_count": 385,
   "metadata": {
    "collapsed": false
   },
   "outputs": [],
   "source": [
    "train = pd.concat([df_fires, df_fires_noloss], axis = 0)"
   ]
  },
  {
   "cell_type": "code",
   "execution_count": 386,
   "metadata": {
    "collapsed": false
   },
   "outputs": [],
   "source": [
    "labels = train['target_binary']\n",
    "logloss = train['logloss']\n",
    "weights = train['var11']\n",
    "target = train['target']"
   ]
  },
  {
   "cell_type": "code",
   "execution_count": 387,
   "metadata": {
    "collapsed": false
   },
   "outputs": [],
   "source": [
    "train.drop(['var11','target_binary','target', 'logloss'], axis=1, inplace=True)"
   ]
  },
  {
   "cell_type": "code",
   "execution_count": 388,
   "metadata": {
    "collapsed": false
   },
   "outputs": [],
   "source": [
    "from sklearn.cross_validation import StratifiedKFold\n",
    "skf = StratifiedKFold(labels, n_folds=5, shuffle=False, random_state=2015)\n",
    "for train_index, test_index in skf:\n",
    "#    print train_index, test_index\n",
    "    X_sample_train, X_sample_test = train.iloc[train_index], train.iloc[test_index]\n",
    "    y_sample_train, y_sample_test = labels.iloc[train_index], labels.iloc[test_index]\n",
    "    log_train, log_test = logloss.iloc[train_index], logloss.iloc[test_index]\n",
    "    target_train, target_test = target.iloc[train_index], target.iloc[test_index]\n",
    "    w_train, w_test = weights.iloc[train_index], weights.iloc[test_index]"
   ]
  },
  {
   "cell_type": "code",
   "execution_count": 389,
   "metadata": {
    "collapsed": true
   },
   "outputs": [],
   "source": [
    "def weighted_gini(act,pred,weight):\n",
    "    df = pd.DataFrame({\"act\":act,\"pred\":pred,\"weight\":weight})\n",
    "    df = df.sort('pred',ascending=False)\n",
    "    df[\"random\"] = (df.weight / df.weight.sum()).cumsum()\n",
    "    total_pos = (df.act * df.weight).sum()\n",
    "    df[\"cum_pos_found\"] = (df.act * df.weight).cumsum()\n",
    "    df[\"lorentz\"] = df.cum_pos_found / total_pos\n",
    "    n = df.shape[0]\n",
    "    #df[\"gini\"] = (df.lorentz - df.random) * df.weight\n",
    "    #return df.gini.sum()\n",
    "    gini = sum(df.lorentz[1:].values * (df.random[:-1])) - sum(df.lorentz[:-1].values * (df.random[1:]))\n",
    "    return gini\n",
    "\n",
    "def normalized_weighted_gini(act,pred,weight):\n",
    "    return weighted_gini(act,pred,weight) / weighted_gini(act,act,weight)"
   ]
  },
  {
   "cell_type": "code",
   "execution_count": 390,
   "metadata": {
    "collapsed": true
   },
   "outputs": [],
   "source": [
    "import sklearn.metrics\n",
    "import time\n",
    "\n",
    "def evaluate_model(clf):\n",
    "    \"\"\"Scores a model using log loss with the created train and test sets.\"\"\"\n",
    "    start = time.time()\n",
    "#    clf.fit(X_train, y_train)\n",
    "    print \"Train score:\", sklearn.metrics.roc_auc_score(y_train, clf.predict_proba(X_train)[:,1])\n",
    "    print \"Test score:\", sklearn.metrics.roc_auc_score(y_test, clf.predict_proba(X_test)[:,1])\n",
    "    print \"train gini score:\", normalized_weighted_gini(clf.predict_proba(X_train)[:,1], y_train, w_train)\n",
    "    print \"test gini score:\", normalized_weighted_gini(clf.predict_proba(X_test)[:,1], y_test, w_test)\n",
    "    print \"Total time:\", time.time() - start\n",
    "    print"
   ]
  },
  {
   "cell_type": "markdown",
   "metadata": {},
   "source": [
    "# Logistic Regression"
   ]
  },
  {
   "cell_type": "code",
   "execution_count": 20,
   "metadata": {
    "collapsed": false
   },
   "outputs": [
    {
     "name": "stdout",
     "output_type": "stream",
     "text": [
      "Train score: 0.689284056257\n",
      "Test score: 0.653257278481\n",
      "train gini score: 0.0169885904482\n",
      "test gini score: 0.0183222467795\n",
      "Total time: 2.05951809883\n",
      "\n"
     ]
    }
   ],
   "source": [
    "# Scaling the varaibles is often useful and will make the model converge more quickly.\n",
    "from sklearn.pipeline import Pipeline\n",
    "from sklearn.preprocessing import MinMaxScaler\n",
    "from sklearn.linear_model import LogisticRegression\n",
    "pipe = Pipeline([('scale', MinMaxScaler()), ('classifier', LogisticRegression())])\n",
    "evaluate_model(pipe)"
   ]
  },
  {
   "cell_type": "code",
   "execution_count": 21,
   "metadata": {
    "collapsed": false
   },
   "outputs": [
    {
     "data": {
      "text/plain": [
       "[<matplotlib.lines.Line2D at 0x10de1c3d0>]"
      ]
     },
     "execution_count": 21,
     "metadata": {},
     "output_type": "execute_result"
    },
    {
     "data": {
      "image/png": "[encoded data removed]",
      "text/plain": [
       "<matplotlib.figure.Figure at 0x10de1c110>"
      ]
     },
     "metadata": {},
     "output_type": "display_data"
    }
   ],
   "source": [
    "import sklearn.learning_curve\n",
    "\n",
    "C_values = [0.01, 0.1, 0.5, 1, 5, 10, 50, 100, 1000]\n",
    "train_scores, test_scores = sklearn.learning_curve.validation_curve(pipe, X_train, y_train,\n",
    "                                                                    'classifier__C', C_values, scoring='roc_auc')\n",
    "plt.plot(np.mean(train_scores, axis=1), label='Train')\n",
    "plt.plot(np.mean(test_scores, axis=1), label='Test')"
   ]
  },
  {
   "cell_type": "code",
   "execution_count": 15,
   "metadata": {
    "collapsed": false
   },
   "outputs": [
    {
     "name": "stdout",
     "output_type": "stream",
     "text": [
      "Train score: 0.698736409043\n",
      "Test score: 0.65465685654\n",
      "train gini score: 0.0180167317276\n",
      "test gini score: 0.0111118607677\n",
      "Total time: 1996.12573695\n",
      "\n"
     ]
    },
    {
     "data": {
      "text/plain": [
       "[mean: 0.50000, std: 0.00000, params: {'classifier__C': 0.01, 'classifier__penalty': 'l1'},\n",
       " mean: 0.63984, std: 0.00706, params: {'classifier__C': 0.1, 'classifier__penalty': 'l1'},\n",
       " mean: 0.65590, std: 0.00327, params: {'classifier__C': 0.5, 'classifier__penalty': 'l1'},\n",
       " mean: 0.65936, std: 0.00428, params: {'classifier__C': 1, 'classifier__penalty': 'l1'},\n",
       " mean: 0.65700, std: 0.00292, params: {'classifier__C': 5, 'classifier__penalty': 'l1'},\n",
       " mean: 0.65494, std: 0.00187, params: {'classifier__C': 10, 'classifier__penalty': 'l1'},\n",
       " mean: 0.65488, std: 0.00118, params: {'classifier__C': 50, 'classifier__penalty': 'l1'},\n",
       " mean: 0.65484, std: 0.00104, params: {'classifier__C': 100, 'classifier__penalty': 'l1'},\n",
       " mean: 0.65466, std: 0.00132, params: {'classifier__C': 1000, 'classifier__penalty': 'l1'}]"
      ]
     },
     "execution_count": 15,
     "metadata": {},
     "output_type": "execute_result"
    }
   ],
   "source": [
    "from sklearn.grid_search import GridSearchCV\n",
    "\n",
    "C_values = [0.01, 0.1, 0.5, 1, 5, 10, 50, 100, 1000]\n",
    "penalty_values = ['l1']\n",
    "\n",
    "params = [{'classifier__C' : C_values, 'classifier__penalty': penalty_values}]\n",
    "grid = GridSearchCV(pipe, params, cv=2, scoring='roc_auc')\n",
    "evaluate_model(grid)\n",
    "grid.grid_scores_"
   ]
  },
  {
   "cell_type": "markdown",
   "metadata": {},
   "source": [
    "# Gradient Boosting"
   ]
  },
  {
   "cell_type": "code",
   "execution_count": 32,
   "metadata": {
    "collapsed": false
   },
   "outputs": [
    {
     "data": {
      "text/plain": [
       "GradientBoostingClassifier(init=None, learning_rate=0.05, loss='deviance',\n",
       "              max_depth=3, max_features=10, max_leaf_nodes=None,\n",
       "              min_samples_leaf=1, min_samples_split=2,\n",
       "              min_weight_fraction_leaf=0.0, n_estimators=500,\n",
       "              random_state=2015, subsample=1.0, verbose=0,\n",
       "              warm_start=False)"
      ]
     },
     "execution_count": 32,
     "metadata": {},
     "output_type": "execute_result"
    }
   ],
   "source": [
    "from sklearn.ensemble import GradientBoostingClassifier\n",
    "\n",
    "#evaluate_model(gbt)\n",
    "gbm = GradientBoostingClassifier(max_features=10, n_estimators=500, \n",
    "                                 learning_rate=0.05, random_state= 2015)\n",
    "gbm.fit(X_train, y_train)"
   ]
  },
  {
   "cell_type": "code",
   "execution_count": 33,
   "metadata": {
    "collapsed": false
   },
   "outputs": [
    {
     "name": "stdout",
     "output_type": "stream",
     "text": [
      "0.828096142219\n",
      "0.663708122363\n",
      "train gini score: 0.130474435254\n",
      "test gini score: 0.0132713907171\n"
     ]
    }
   ],
   "source": [
    "print sklearn.metrics.roc_auc_score(y_train, gbm.predict_proba(X_train)[:,1])\n",
    "print sklearn.metrics.roc_auc_score(y_test, gbm.predict_proba(X_test)[:,1])\n",
    "print \"train gini score:\", normalized_weighted_gini(gbm.predict_proba(X_train)[:,1], y_train, w_train)\n",
    "print \"test gini score:\", normalized_weighted_gini(gbm.predict_proba(X_test)[:,1], y_test, w_test)"
   ]
  },
  {
   "cell_type": "code",
   "execution_count": 34,
   "metadata": {
    "collapsed": true
   },
   "outputs": [],
   "source": [
    "def plot_gbt_learning(gbt):\n",
    "    test_score = np.empty(len(gbt.estimators_))\n",
    "    train_score = np.empty(len(gbt.estimators_))\n",
    "    for i, pred in enumerate(gbt.staged_predict_proba(X_test)):\n",
    "         test_score[i] = sklearn.metrics.roc_auc_score(y_test, pred[:,1])\n",
    "    #    test_score[i] = sklearn.metrics.log_loss(y_test, pred)\n",
    "    for i, pred in enumerate(gbt.staged_predict_proba(X_train)):\n",
    "         train_score[i] = sklearn.metrics.roc_auc_score(y_train, pred[:,1])\n",
    "    #    train_score[i] = sklearn.metrics.log_loss(y_train, pred)\n",
    "    plt.figure(figsize=(8,6))\n",
    "    plt.plot(np.arange(gbt.n_estimators) + 1, test_score, label='Test') \n",
    "    plt.plot(np.arange(gbt.n_estimators) + 1, train_score, label='Train')"
   ]
  },
  {
   "cell_type": "code",
   "execution_count": 36,
   "metadata": {
    "collapsed": false,
    "scrolled": true
   },
   "outputs": [
    {
     "data": {
      "image/png": "[encoded data removed]",
      "text/plain": [
       "<matplotlib.figure.Figure at 0x10ed0acd0>"
      ]
     },
     "metadata": {},
     "output_type": "display_data"
    }
   ],
   "source": [
    "plot_gbt_learning(gbm)"
   ]
  },
  {
   "cell_type": "code",
   "execution_count": 231,
   "metadata": {
    "collapsed": false
   },
   "outputs": [
    {
     "data": {
      "image/png": "[encoded data removed]",
      "text/plain": [
       "<matplotlib.figure.Figure at 0x10f674810>"
      ]
     },
     "metadata": {},
     "output_type": "display_data"
    }
   ],
   "source": [
    "feature_importance = gbm.feature_importances_ \n",
    "# make importances relative to max importance\n",
    "feature_importance = 100.0 * (feature_importance / feature_importance.max())\n",
    "sorted_idx = np.argsort(feature_importance)\n",
    "pos = np.arange(sorted_idx.shape[0]) + .5\n",
    "plt.subplot(1, 2, 2)\n",
    "plt.barh(pos, feature_importance[sorted_idx], align='center')\n",
    "plt.yticks(pos, X_train.columns[[sorted_idx]])\n",
    "plt.xlabel('Relative Importance')\n",
    "plt.title('Variable Importance')\n",
    "plt.show()"
   ]
  },
  {
   "cell_type": "markdown",
   "metadata": {},
   "source": [
    "# GBR"
   ]
  },
  {
   "cell_type": "code",
   "execution_count": 391,
   "metadata": {
    "collapsed": false
   },
   "outputs": [],
   "source": [
    "from sklearn.ensemble import GradientBoostingRegressor\n",
    "gbr = GradientBoostingRegressor()"
   ]
  },
  {
   "cell_type": "code",
   "execution_count": 392,
   "metadata": {
    "collapsed": false
   },
   "outputs": [
    {
     "data": {
      "text/plain": [
       "GradientBoostingRegressor(alpha=0.9, init=None, learning_rate=0.05, loss='ls',\n",
       "             max_depth=3, max_features=None, max_leaf_nodes=None,\n",
       "             min_samples_leaf=1, min_samples_split=2,\n",
       "             min_weight_fraction_leaf=0.0, n_estimators=100,\n",
       "             random_state=None, subsample=1.0, verbose=0, warm_start=False)"
      ]
     },
     "execution_count": 392,
     "metadata": {},
     "output_type": "execute_result"
    }
   ],
   "source": [
    "#evaluate_model(gbr)\n",
    "gbr = GradientBoostingRegressor(n_estimators=100, learning_rate=0.05)\n",
    "gbr.fit(X_sample_train, target_train)"
   ]
  },
  {
   "cell_type": "code",
   "execution_count": 395,
   "metadata": {
    "collapsed": false,
    "scrolled": true
   },
   "outputs": [
    {
     "name": "stdout",
     "output_type": "stream",
     "text": [
      "train gini score: 0.0431735781728\n",
      "test gini score: 0.0176712074271\n"
     ]
    }
   ],
   "source": [
    "#print sklearn.metrics.log_loss(y_train, gbr.predict(X_train))\n",
    "#print sklearn.metrics.log_loss(y_test, gbr.predict(X_test))\n",
    "print \"train gini score:\", normalized_weighted_gini(gbr.predict(X_sample_train), target_train, w_train)\n",
    "print \"test gini score:\", normalized_weighted_gini(gbr.predict(X_sample_test), target_test, w_test)"
   ]
  },
  {
   "cell_type": "code",
   "execution_count": 372,
   "metadata": {
    "collapsed": false
   },
   "outputs": [
    {
     "data": {
      "image/png": "[encoded data removed]",
      "text/plain": [
       "<matplotlib.figure.Figure at 0x10da83510>"
      ]
     },
     "metadata": {},
     "output_type": "display_data"
    }
   ],
   "source": [
    "feature_importance = gbr.feature_importances_ \n",
    "# make importances relative to max importance\n",
    "feature_importance = 100.0 * (feature_importance / feature_importance.max())\n",
    "sorted_idx = np.argsort(feature_importance)\n",
    "pos = np.arange(sorted_idx.shape[0]) + .5\n",
    "plt.subplot(1, 2, 2)\n",
    "plt.barh(pos, feature_importance[sorted_idx], align='center')\n",
    "plt.yticks(pos, X_train.columns.values[sorted_idx])\n",
    "plt.xlabel('Relative Importance')\n",
    "plt.title('Variable Importance')\n",
    "plt.show()\n"
   ]
  },
  {
   "cell_type": "markdown",
   "metadata": {},
   "source": [
    "# XGBOOST"
   ]
  },
  {
   "cell_type": "code",
   "execution_count": 70,
   "metadata": {
    "collapsed": true
   },
   "outputs": [],
   "source": [
    "import scipy as sp\n",
    "from sklearn.cross_validation import KFold\n",
    "import xgboost as xgb\n",
    "\n",
    "def estimate_performance_xgboost(X,labels,weights, param, num_round, folds):\n",
    "    '''\n",
    "    Cross validation for XGBoost performance\n",
    "    '''\n",
    "    # Load training data\n",
    "#     f=open(\"summary_bst_scan.txt\",\"a\")\n",
    "#     X, labels, weights = get_training_data(training_file)\n",
    "#    f=open(\"summary_bst_scan.txt\",\"a\")\n",
    "    # Cross validate\n",
    "    npoints  =30\n",
    "    kf = KFold(labels.size, n_folds=folds, random_state=4234)\n",
    "\n",
    "    # Dictionary to store all the AMSs#    ams_best_idall_AMS = {}\n",
    "    all_GINI = []\n",
    "#    summay_table=[]\n",
    "#     for curr in range(npoints):\n",
    "#         all_AMS[curr] = []\n",
    "    # These are the cutoffs used for the XGBoost predictions\n",
    "    cutoffs  = sp.linspace(0.10, 0.40, npoints)\n",
    "    for train_indices, test_indices in kf:\n",
    "        X_train, X_test = X.iloc[train_indices], X.iloc[test_indices]\n",
    "        y_train, y_test = labels.iloc[train_indices], labels.iloc[test_indices]\n",
    "        w_train, w_test = weights.iloc[train_indices], weights.iloc[test_indices]\n",
    "\n",
    "        # Rescale weights so that their sum is the same as for the entire training set\n",
    "        w_train *= (sum(weights) / sum(w_train))\n",
    "        w_test  *= (sum(weights) / sum(w_test))\n",
    "\n",
    "        sum_wpos = sum( weights[i] for i in range(len(labels)) if labels[i] > 0.0  )\n",
    "        sum_wneg = sum( weights[i] for i in range(len(labels)) if labels[i] == 0.0  )    \n",
    "        if (sum_wneg>  sum_wpos*100000):\n",
    "            sum_wpos=1000*sum_wneg\n",
    "        # construct xgboost.DMatrix from numpy array, treat -999.0 as missing value\n",
    "#        xgmat = xgb.DMatrix(X_train, label=y_train, missing=-999.0, weight=w_train)\n",
    "        xgmat = xgb.DMatrix(X_train, label=y_train, weight=w_train)\n",
    "\n",
    "        # scale weight of positive examples\n",
    "        param['scale_pos_weight'] = sum_wneg / sum_wpos\n",
    "        \n",
    "        # you can directly throw param in, though we want to watch multiple metrics here\n",
    "        plst = param.items()#+[('eval_metric', 'ams@0.15')]\n",
    "\n",
    "        watchlist = []#[(xgmat, 'train')]\n",
    "        bst = xgb.train(plst, xgmat, num_round, watchlist)\n",
    "\n",
    "        # Construct matrix for test set\n",
    "#        xgmat_test = xgb.DMatrix(X_test, missing=-999.0)\n",
    "        xgmat_test = xgb.DMatrix(X_test)\n",
    "        y_out = bst.predict(xgmat_test)\n",
    "#        num=y_test.shape[0]\n",
    "#        y_test=np.reshape(y_test,num)\n",
    "#         print((y_test).shape)\n",
    "        gini_score=normalized_weighted_gini(y_test,y_out,w_test)\n",
    "        print('gini_score={}'.format(gini_score))\n",
    "#        f.write('gini_score={}'.format(gini_score))\n",
    "#        f.write('\\n')\n",
    "        all_GINI.append(gini_score)\n",
    "    print (\"------------------------------------------------------\")\n",
    "    print (\"mean Gimi ={} with std={}\".format(sp.mean(all_GINI),sp.std(all_GINI)))\n",
    "#    f.write(\"mean Gimi ={} with std={}\".format(sp.mean(all_GINI),sp.std(all_GINI)))\n",
    "#    f.write('\\n')\n",
    "#    f.close()"
   ]
  },
  {
   "cell_type": "code",
   "execution_count": 77,
   "metadata": {
    "collapsed": false
   },
   "outputs": [
    {
     "name": "stdout",
     "output_type": "stream",
     "text": [
      "gini_score=0.256209258992\n",
      "gini_score=0.180353934642\n",
      "gini_score=0.238857578656\n",
      "gini_score=0.243307813876\n",
      "gini_score=0.313345054756\n",
      "------------------------------------------------------\n",
      "mean Gimi =0.246414728185 with std=0.0424414733903\n"
     ]
    }
   ],
   "source": [
    "params1 = {'objective': 'binary:logistic',\n",
    "              'eta': 0.1,\n",
    "              'subsample': 0.75,\n",
    "              'max_depth': 6,\n",
    "              'min_child_weight': 1,\n",
    "              'colsample_bytree': 0.5,\n",
    "              'gamma': 0,\n",
    "              'silent': 1}\n",
    "\n",
    "folds = 5 \n",
    "num_round = 50 # Number of boosted trees\n",
    "\n",
    "xgb1 = estimate_performance_xgboost(X_train, labels ,weights, params1, num_round, folds)"
   ]
  },
  {
   "cell_type": "code",
   "execution_count": 80,
   "metadata": {
    "collapsed": false
   },
   "outputs": [
    {
     "name": "stdout",
     "output_type": "stream",
     "text": [
      "gini_score=0.337331162398\n",
      "gini_score=0.187313740359\n",
      "gini_score=0.255579834881\n",
      "gini_score=0.2449387894\n",
      "gini_score=0.260293833861\n",
      "------------------------------------------------------\n",
      "mean Gimi =0.25709147218 with std=0.0478906412793\n"
     ]
    }
   ],
   "source": [
    "params2 = {'objective': 'count:poisson',\n",
    "              'eta': 0.1,\n",
    "              'subsample': 0.7,\n",
    "              'max_depth': 6,\n",
    "              'min_child_weight': 1,\n",
    "              'colsample_bytree': 0.5,\n",
    "              'gamma': 5,\n",
    "              'silent': 1\n",
    "              }\n",
    "\n",
    "folds = 5 \n",
    "num_round = 10 \n",
    "xgb2 = estimate_performance_xgboost(X_train, logloss, weights, params2, num_round, folds)"
   ]
  },
  {
   "cell_type": "code",
   "execution_count": 81,
   "metadata": {
    "collapsed": false
   },
   "outputs": [
    {
     "name": "stdout",
     "output_type": "stream",
     "text": [
      "gini_score=0.283026033193\n",
      "gini_score=0.166475770954\n",
      "gini_score=0.154670224864\n",
      "gini_score=0.24769579225\n",
      "gini_score=0.233623849113\n",
      "------------------------------------------------------\n",
      "mean Gimi =0.217098334075 with std=0.0490217733699\n"
     ]
    }
   ],
   "source": [
    "params3 = {'objective': 'reg:linear',\n",
    "              'eta': 0.1,\n",
    "              'subsample': 0.9,\n",
    "              'max_depth': 9,\n",
    "              'min_child_weight': 1,\n",
    "              'colsample_bytree': 0.5,\n",
    "              'gamma': 5,\n",
    "              'silent': 1\n",
    "              }\n",
    "folds = 5 \n",
    "num_round = 10 \n",
    "xgb3 = estimate_performance_xgboost(X_train, logloss, weights, params3, num_round, folds)"
   ]
  },
  {
   "cell_type": "code",
   "execution_count": 408,
   "metadata": {
    "collapsed": false
   },
   "outputs": [],
   "source": [
    "##pick POINSSON for training all training data again\n",
    "##Poinsson \n",
    "sum_wpos = sum( weights_total[i] for i in range(len(target_total)) if target_total[i] > 0.0  )\n",
    "sum_wneg = sum( weights_total[i] for i in range(len(target_total)) if target_total[i] == 0.0  )    \n",
    "if (sum_wneg>  sum_wpos*100000):\n",
    "    sum_wpos=1000*sum_wneg\n",
    "\n",
    "xgmat = xgb.DMatrix(X_train, label=target_total, weight=weights_total)    \n",
    "    \n",
    "params2 = {'objective': 'count:poisson',\n",
    "           'eta': 0.05,\n",
    "              'max_depth': 6,\n",
    "             'subsample': 0.8,\n",
    "              'min_child_weight': 1,\n",
    "              'colsample_bytree': 0.5,\n",
    "              'gamma': 6,\n",
    "              'silent': 1,\n",
    "              'scale_pos_weight':sum_wneg / sum_wpos\n",
    "              }\n",
    "\n",
    "num_round = 24\n",
    "\n",
    "xgb_poinsson = xgb.train(params2, xgmat,num_round)"
   ]
  },
  {
   "cell_type": "code",
   "execution_count": 410,
   "metadata": {
    "collapsed": false
   },
   "outputs": [],
   "source": [
    "##pick Logistic for training all training data again\n",
    "xgmat = xgb.DMatrix(X_train, labels_total, weight=weights_total)    \n",
    " \n",
    "params1 = {'objective': 'binary:logistic',\n",
    "              'eta': 0.05,\n",
    "              'max_depth': 6,\n",
    "              'subsample': 0.8,\n",
    "              'min_child_weight': 1,\n",
    "              'colsample_bytree': 0.5,\n",
    "              'gamma': 6,\n",
    "              'silent': 1,\n",
    "              'scale_pos_weight':sum_wneg / sum_wpos}\n",
    "\n",
    "num_round = 25\n",
    "\n",
    "xgb_logit = xgb.train(params1, xgmat,num_round)"
   ]
  },
  {
   "cell_type": "markdown",
   "metadata": {
    "collapsed": true
   },
   "source": [
    "# blind test set"
   ]
  },
  {
   "cell_type": "code",
   "execution_count": 396,
   "metadata": {
    "collapsed": false
   },
   "outputs": [],
   "source": [
    "X_train.drop(['target_binary','logloss', 'var11', 'target'], axis =1, inplace = True)"
   ]
  },
  {
   "cell_type": "code",
   "execution_count": 68,
   "metadata": {
    "collapsed": false
   },
   "outputs": [],
   "source": [
    "pred = gbm.predict_proba(X_test)[:,1]\n",
    "## new dataframe fro submission\n",
    "data_test_sub=pd.DataFrame({\"id\":X_test.index,\"target\":pred})\n",
    "data_test_sub.to_csv('submission_gbm_reduced.csv',index=False)"
   ]
  },
  {
   "cell_type": "code",
   "execution_count": 69,
   "metadata": {
    "collapsed": true
   },
   "outputs": [],
   "source": [
    "pred2 = gbr.predict(X_test)\n",
    "## new dataframe fro submission\n",
    "data_test_sub=pd.DataFrame({\"id\":X_test.index,\"target\":pred2})\n",
    "data_test_sub.to_csv('submission_gbr_reduced.csv',index=False)"
   ]
  },
  {
   "cell_type": "code",
   "execution_count": 203,
   "metadata": {
    "collapsed": false
   },
   "outputs": [],
   "source": [
    "xgmat_test = xgb.DMatrix(X_test)\n",
    "pred3 = xgb_poinsson.predict(xgmat_test)\n",
    "## new dataframe fro submission\n",
    "data_test_sub=pd.DataFrame({\"id\":X_test.index,\"target\":pred3})\n",
    "data_test_sub.to_csv('submission_xgb_poisson.csv',index=False)"
   ]
  },
  {
   "cell_type": "code",
   "execution_count": 122,
   "metadata": {
    "collapsed": true
   },
   "outputs": [],
   "source": [
    "xgmat_test = xgb.DMatrix(X_test)\n",
    "pred4 = xgb_logit.predict(xgmat_test)\n",
    "## new dataframe fro submission\n",
    "data_test_sub=pd.DataFrame({\"id\":X_test.index,\"target\":pred4})\n",
    "data_test_sub.to_csv('submission_xgb_logit.csv',index=False)"
   ]
  },
  {
   "cell_type": "markdown",
   "metadata": {},
   "source": [
    "# Ensemble"
   ]
  },
  {
   "cell_type": "code",
   "execution_count": 426,
   "metadata": {
    "collapsed": true
   },
   "outputs": [],
   "source": [
    "pred_gbr_train = gbr.predict(X_train)\n",
    "pred_xgbpoisson_train = xgb_poinsson.predict(xgb.DMatrix(X_train))\n",
    "data_stack=pd.DataFrame({\"pred_gbr_train\":pred_gbr_train,\n",
    "                            'pred_xgbpoisson_train':pred_xgbpoisson_train})"
   ]
  },
  {
   "cell_type": "code",
   "execution_count": 483,
   "metadata": {
    "collapsed": false
   },
   "outputs": [],
   "source": [
    "stacked_train = pd.concat([X_train,data_stack], axis= 1)"
   ]
  },
  {
   "cell_type": "code",
   "execution_count": 496,
   "metadata": {
    "collapsed": false
   },
   "outputs": [
    {
     "data": {
      "text/plain": [
       "GradientBoostingRegressor(alpha=0.9, init=None, learning_rate=0.1, loss='ls',\n",
       "             max_depth=3, max_features=None, max_leaf_nodes=None,\n",
       "             min_samples_leaf=1, min_samples_split=2,\n",
       "             min_weight_fraction_leaf=0.0, n_estimators=100,\n",
       "             random_state=None, subsample=1.0, verbose=0, warm_start=False)"
      ]
     },
     "execution_count": 496,
     "metadata": {},
     "output_type": "execute_result"
    }
   ],
   "source": [
    "gbr_ensemble = GradientBoostingRegressor(n_estimators=100, learning_rate=0.1)\n",
    "gbr_ensemble.fit(stacked_train, logloss_total)"
   ]
  },
  {
   "cell_type": "code",
   "execution_count": 486,
   "metadata": {
    "collapsed": false
   },
   "outputs": [],
   "source": [
    "data_stack_test=pd.DataFrame({\"pred_gbr_train\":pred2,\n",
    "                            'pred_xgbpoisson_train':pred3,\n",
    "                           'pred_xgblogit_train':pred4})\n",
    "stacked_test = pd.concat([X_test,data_stack_test], axis= 1)"
   ]
  },
  {
   "cell_type": "code",
   "execution_count": 495,
   "metadata": {
    "collapsed": false
   },
   "outputs": [],
   "source": [
    "#############\n",
    "#xgmat_test = xgb.DMatrix(stacked_test)\n",
    "pred5 = gbr_ensemble.predict(stacked_test)\n",
    "## new dataframe fro submission\n",
    "data_test_sub=pd.DataFrame({\"id\":X_test.index,\"target\":pred5})\n",
    "data_test_sub.to_csv('submission_xgb_poisson_refit.csv',index=False)"
   ]
  },
  {
   "cell_type": "code",
   "execution_count": null,
   "metadata": {
    "collapsed": true
   },
   "outputs": [],
   "source": []
  }
 ],
 "metadata": {
  "kernelspec": {
   "display_name": "Python 2",
   "language": "python",
   "name": "python2"
  },
  "language_info": {
   "codemirror_mode": {
    "name": "ipython",
    "version": 2
   },
   "file_extension": ".py",
   "mimetype": "text/x-python",
   "name": "python",
   "nbconvert_exporter": "python",
   "pygments_lexer": "ipython2",
   "version": "2.7.11"
  }
 },
 "nbformat": 4,
 "nbformat_minor": 0
}
