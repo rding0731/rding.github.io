{
 "cells": [
  {
   "cell_type": "markdown",
   "metadata": {},
   "source": [
    "# Dynamic Programming\n",
    "\n",
    "## I: Overlappting Subproblems - that can be stored in a table so we don't need to repeately solve the same thing\n",
    "\n",
    "### Two method: 1. Top-down 2.Bottom-up.\n",
    "\n",
    "#### 1. Top-down: that is very similiar to recurrance and just to add one more line of checking before the recursive.Top-down (Memorization) method only calculates the ones on demand "
   ]
  },
  {
   "cell_type": "code",
   "execution_count": 1,
   "metadata": {
    "collapsed": false
   },
   "outputs": [],
   "source": [
    "def fib(n):\n",
    "    ## create a look up table\n",
    "    lookup = [-1]* (n+1)\n",
    "    \n",
    "    ## base case of 0 or 1\n",
    "    if n == 0 or n == 1:\n",
    "        lookup[n] = n\n",
    "    \n",
    "    # If the value is not calculated previously then calculate it\n",
    "    if lookup[n] == -1: ## THIS LINE IS NEW TO DISTINCT FROM RECURRSIVE\n",
    "        lookup[n] = fib(n-1) + fib(n-2)\n",
    "    \n",
    "    return lookup[n]"
   ]
  },
  {
   "cell_type": "code",
   "execution_count": 21,
   "metadata": {
    "collapsed": false
   },
   "outputs": [
    {
     "data": {
      "text/plain": [
       "5702887"
      ]
     },
     "execution_count": 21,
     "metadata": {},
     "output_type": "execute_result"
    }
   ],
   "source": [
    "fib(34)"
   ]
  },
  {
   "cell_type": "markdown",
   "metadata": {},
   "source": [
    "### 2. Bottom-up is to calculate every function and then do the look up. "
   ]
  },
  {
   "cell_type": "code",
   "execution_count": 16,
   "metadata": {
    "collapsed": false
   },
   "outputs": [],
   "source": [
    "def fib_bottomup(n):\n",
    "    ## create a look up table\n",
    "    lookup = [-1]* (n+1)\n",
    "    \n",
    "    # If the value is not calculated previously then calculate it\n",
    "    for i in range(0, n+1):\n",
    "        if i == 0 or i == 1:\n",
    "            lookup[i] = i\n",
    "        else:\n",
    "            lookup[i] = lookup[i-1] + lookup[i-2]    \n",
    "    \n",
    "    return lookup[n]"
   ]
  },
  {
   "cell_type": "code",
   "execution_count": 22,
   "metadata": {
    "collapsed": false
   },
   "outputs": [
    {
     "data": {
      "text/plain": [
       "5702887"
      ]
     },
     "execution_count": 22,
     "metadata": {},
     "output_type": "execute_result"
    }
   ],
   "source": [
    "fib_bottomup(34)"
   ]
  },
  {
   "cell_type": "markdown",
   "metadata": {},
   "source": [
    "### II. Optimal Substructure: A given problems has Optimal Substructure Property if optimal solution of the given problem can be obtained by using optimal solutions of its subproblems.\n",
    "\n",
    "#### Shortest Path is a DP example \n",
    "##### The standard All Pair Shortest Path algorithms like Floyd–Warshall and Bellman–Ford are typical examples of Dynamic Programming.\n",
    "\n",
    "#### Longest Path problem is not DP becuase there is no optimal substructure. "
   ]
  },
  {
   "cell_type": "markdown",
   "metadata": {},
   "source": [
    "### Problem1:The Longest Increasing Subsequence (LIS) problem is to find the length of the longest subsequence of a given sequence such that all elements of the subsequence are sorted in increasing order.  For example, the length of LIS for {10, 22, 9, 33, 21, 50, 41, 60, 80} is 6 and LIS is {10, 22, 33, 50, 60, 80}."
   ]
  },
  {
   "cell_type": "code",
   "execution_count": 55,
   "metadata": {
    "collapsed": false
   },
   "outputs": [],
   "source": [
    "## Not DP\n",
    "\n",
    "def lis(l):\n",
    "    lookup = [l[0]]  \n",
    "\n",
    "    for i in range(1, len(l)):\n",
    "        if l[i] > lookup[-1]:\n",
    "            lookup.append(l[i])\n",
    "        i += 1\n",
    "    \n",
    "    return len(lookup)"
   ]
  },
  {
   "cell_type": "code",
   "execution_count": 56,
   "metadata": {
    "collapsed": false
   },
   "outputs": [
    {
     "data": {
      "text/plain": [
       "5"
      ]
     },
     "execution_count": 56,
     "metadata": {},
     "output_type": "execute_result"
    }
   ],
   "source": [
    "arr = [10, 22, 9, 33, 21, 50, 41, 60]\n",
    "lis(arr)"
   ]
  },
  {
   "cell_type": "code",
   "execution_count": 171,
   "metadata": {
    "collapsed": false
   },
   "outputs": [],
   "source": [
    "def sqrt(x):\n",
    "        # write your code here\n",
    "        \n",
    "        if x < 0:\n",
    "            return -1\n",
    "        \n",
    "        if x == 0 or x == 1:\n",
    "            return x\n",
    "        \n",
    "        start = 0 \n",
    "        end = x // 2\n",
    "                \n",
    "        while (start + 1 < end):\n",
    "            \n",
    "            m = (start + end) // 2\n",
    "            \n",
    "            if m ** 2 == x:\n",
    "                return m \n",
    "            \n",
    "            if m ** 2 < x:\n",
    "                start = m\n",
    "            else:  \n",
    "                end = m\n",
    "              \n",
    "        if start ** 2 < x:\n",
    "            return start\n",
    "        \n",
    "        return end"
   ]
  },
  {
   "cell_type": "code",
   "execution_count": 173,
   "metadata": {
    "collapsed": false
   },
   "outputs": [
    {
     "data": {
      "text/plain": [
       "3"
      ]
     },
     "execution_count": 173,
     "metadata": {},
     "output_type": "execute_result"
    }
   ],
   "source": [
    "sqrt(10)"
   ]
  },
  {
   "cell_type": "markdown",
   "metadata": {},
   "source": [
    "## this problem has Overlapping Substructure property and recomputation of same subproblems can be avoided by either using Memoization or Tabulation. Following is a tabluated implementation for the LIS problem."
   ]
  },
  {
   "cell_type": "code",
   "execution_count": 78,
   "metadata": {
    "collapsed": false
   },
   "outputs": [],
   "source": [
    "def lis_dp(lst):\n",
    "    lookup = [1] * len(lst)  # this table now holds count\n",
    "\n",
    "    for i in range(1, len(lst)):\n",
    "        for j in range(0, i):\n",
    "            # print(i, j)\n",
    "            if lst[i] > lst[j] and lookup[i] < lookup[j] + 1 :\n",
    "                lookup[i] = lookup[j] + 1\n",
    "            j += 1\n",
    "        i += 1\n",
    "        #print(lookup)\n",
    "    \n",
    "    return max(lookup)"
   ]
  },
  {
   "cell_type": "code",
   "execution_count": 79,
   "metadata": {
    "collapsed": false
   },
   "outputs": [
    {
     "data": {
      "text/plain": [
       "5"
      ]
     },
     "execution_count": 79,
     "metadata": {},
     "output_type": "execute_result"
    }
   ],
   "source": [
    "arr = [10, 22, 9, 33, 21, 50, 41, 60]\n",
    "lis_dp(arr)"
   ]
  },
  {
   "cell_type": "markdown",
   "metadata": {},
   "source": [
    "### LCS Lonest Common Subsequence Problem Statement: Given two sequences, find the length of longest subsequence present in both of them. A subsequence is a sequence that appears in the same relative order, but not necessarily contiguous. For example, “abc”, “abg”, “bdf”, “aeg”, ‘”acefg”, .. etc are subsequences of “abcdefg”. So a string of length n has 2^n different possible subsequences."
   ]
  },
  {
   "cell_type": "markdown",
   "metadata": {},
   "source": [
    "###2 loops of looping through str1 and str2 will be big O(2^n)\n",
    "###partial recursion tree, lcs(“AXY”, “AYZ”) is being solved twice.So this problem has Overlapping Substructure property and recomputation of same subproblems can be avoided by either using Memoization or Tabulation. \n",
    "    "
   ]
  },
  {
   "cell_type": "code",
   "execution_count": 109,
   "metadata": {
    "collapsed": false
   },
   "outputs": [],
   "source": [
    "def lcs_dp(str1, str2):\n",
    "    m = len(str1)\n",
    "    n = len(str2)\n",
    "    \n",
    "    L = [[-1 for i in range(0, m+1)] for j in range(0, n+1)]\n",
    "\n",
    "    for i in range(0, n+1):\n",
    "        for j in range(0, m+1):\n",
    "            \n",
    "            ## initial the first row and column to be 0s. \n",
    "\n",
    "            if i == 0 or j == 0:\n",
    "                L[i][j] = 0\n",
    "            \n",
    "            ## If the two string have the same letter, diagonally add 1.\n",
    "            elif str2[i-1] == str1[j-1]:\n",
    "                L[i][j] = L[i-1][j-1] + 1\n",
    "            \n",
    "            ## if not match, pick the max of the number above or to the left of it \n",
    "            else:\n",
    "                L[i][j] = max(L[i][j-1], L[i-1][j])\n",
    "                \n",
    "    return L[n][m]"
   ]
  },
  {
   "cell_type": "code",
   "execution_count": 111,
   "metadata": {
    "collapsed": false
   },
   "outputs": [
    {
     "data": {
      "text/plain": [
       "4"
      ]
     },
     "execution_count": 111,
     "metadata": {},
     "output_type": "execute_result"
    }
   ],
   "source": [
    "X = \"AGGTAB\"\n",
    "Y = \"GXTXAYB\"\n",
    "lcs_dp(X, Y)"
   ]
  },
  {
   "cell_type": "code",
   "execution_count": 112,
   "metadata": {
    "collapsed": false
   },
   "outputs": [
    {
     "ename": "SyntaxError",
     "evalue": "invalid character in identifier (<ipython-input-112-691ea5a872ca>, line 11)",
     "output_type": "error",
     "traceback": [
      "\u001b[0;36m  File \u001b[0;32m\"<ipython-input-112-691ea5a872ca>\"\u001b[0;36m, line \u001b[0;32m11\u001b[0m\n\u001b[0;31m    def findPositionRecursive(self, nums, target, start, end)：\u001b[0m\n\u001b[0m                                                             ^\u001b[0m\n\u001b[0;31mSyntaxError\u001b[0m\u001b[0;31m:\u001b[0m invalid character in identifier\n"
     ]
    }
   ],
   "source": []
  },
  {
   "cell_type": "code",
   "execution_count": null,
   "metadata": {
    "collapsed": true
   },
   "outputs": [],
   "source": []
  }
 ],
 "metadata": {
  "kernelspec": {
   "display_name": "Python 3",
   "language": "python",
   "name": "python3"
  },
  "language_info": {
   "codemirror_mode": {
    "name": "ipython",
    "version": 3
   },
   "file_extension": ".py",
   "mimetype": "text/x-python",
   "name": "python",
   "nbconvert_exporter": "python",
   "pygments_lexer": "ipython3",
   "version": "3.6.0"
  }
 },
 "nbformat": 4,
 "nbformat_minor": 2
}
